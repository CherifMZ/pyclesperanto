{
 "cells": [
  {
   "attachments": {},
   "cell_type": "markdown",
   "metadata": {},
   "source": [
    "# Tier Wrapper generator\n",
    "\n",
    "The following notebook generates the wrapping code to make C++ available to the pyclesperanto python code.\n",
    "This notebook is to be runned for each Tiers (1,2,3, etc.) and will generate the corresponding wrapping code.\n",
    "It only need to be runned when a Tier is updated.\n",
    "\n",
    "__*WARNING*__: this can break the code if the python package is not update consequently. Please check the code and run the tests before pushing."
   ]
  },
  {
   "cell_type": "code",
   "execution_count": 73,
   "metadata": {},
   "outputs": [],
   "source": [
    "import glob\n",
    "import os\n",
    "import sys\n",
    "import re\n",
    "import numpy as np\n",
    "\n",
    "# define __file__ if it is not defined\n",
    "if '__file__' not in globals():\n",
    "    __file__ = os.path.abspath('generate-tiers-package.ipynb')\n",
    "\n",
    "# get platform linux, windows, darwin\n",
    "platform = sys.platform\n",
    "# get platform architecture x86_64, x86, armv7l\n",
    "architecture = os.uname().machine\n",
    "# get the python version\n",
    "python_version = sys.version_info"
   ]
  },
  {
   "attachments": {},
   "cell_type": "markdown",
   "metadata": {},
   "source": [
    "Get the list of hpp files in the tiers directory and sort them by name."
   ]
  },
  {
   "cell_type": "code",
   "execution_count": 74,
   "metadata": {},
   "outputs": [
    {
     "name": "stdout",
     "output_type": "stream",
     "text": [
      "['/mnt/data/Clesperanto/repo/pyclesperanto/scripts/../_skbuild/linux-x86_64-3.10/cmake-build/_deps/clic_lib-src/clic/include/tier2.hpp']\n"
     ]
    }
   ],
   "source": [
    "# get first argument of the script\n",
    "tier = 2 #sys.argv[1]\n",
    "\n",
    "# get current directory\n",
    "current_dir = os.path.dirname(os.path.abspath(__file__))\n",
    "# get the relative path to directory and add 'tier' plus the number of the tier\n",
    "tier_dir = os.path.join(current_dir, '..', '_skbuild', 'linux-x86_64-3.10', 'cmake-build', '_deps', 'clic_lib-src', 'clic', 'include', 'tier' + str(tier))\n",
    "# list all files in the tier_dir\n",
    "files = glob.glob(tier_dir + '.hpp')\n",
    "print(files)"
   ]
  },
  {
   "attachments": {},
   "cell_type": "markdown",
   "metadata": {},
   "source": [
    "Define a set of function to parse the hpp files and extract the information we need."
   ]
  },
  {
   "cell_type": "code",
   "execution_count": 75,
   "metadata": {},
   "outputs": [],
   "source": [
    "def read_file(file):\n",
    "    with open(file, 'r') as f:\n",
    "        content = f.read()\n",
    "    return content\n",
    "\n",
    "def parse_file(file_content):\n",
    "    # Regular expression pattern to extract function names and parameter names\n",
    "    pattern = r\"(\\w+_func)\\s*\\(([^)]*)\\)\"\n",
    "\n",
    "    # Extract function names and parameter names using regular expression\n",
    "    matches = re.findall(pattern, file_content, re.MULTILINE)\n",
    "\n",
    "    # Create a dictionary to store function names and their corresponding parameter names\n",
    "    function_parameters = {}\n",
    "\n",
    "    # Process each match to extract function name and parameter names\n",
    "    for match in matches:\n",
    "        function_name, parameters = match\n",
    "        parameter_names = [param.strip().split()[-1] for param in parameters.split(\",\")]\n",
    "        function_parameters[function_name] = parameter_names\n",
    "    \n",
    "    return function_parameters\n",
    "\n",
    "\n",
    "def generate_function(tier, function_name, parameter_names):\n",
    "    # generate the function name for python and c++\n",
    "    py_function_name = function_name.replace(\"_func\", \"\")\n",
    "    cpp_function_name = f\"&cle::tier{tier}::{function_name}\"\n",
    "    # generate the function body for the wrapper\n",
    "    wrapper_function = f\"m.def(\\\"_{py_function_name}\\\", {cpp_function_name}, \\\"Call {py_function_name} from C++.\\\",\\n\"\n",
    "    wrapper_function += \"\\t\\tpy::return_value_policy::take_ownership,\\n\"\n",
    "    wrapper_function += \"\\t\\tpy::arg(\\\"\"+ parameter_names[0] +\"\\\")\"\n",
    "    for parameter_name in parameter_names[1:]:\n",
    "        wrapper_function += \", py::arg(\\\"\"\n",
    "        wrapper_function += parameter_name\n",
    "        wrapper_function += \"\\\")\"\n",
    "    wrapper_function += \");\"\n",
    "    return wrapper_function\n"
   ]
  },
  {
   "attachments": {},
   "cell_type": "markdown",
   "metadata": {},
   "source": [
    "For each files, we extract the name of the function it contains as well as its signature. From both we build the wrapper code to make the function visible in Python."
   ]
  },
  {
   "cell_type": "code",
   "execution_count": 76,
   "metadata": {},
   "outputs": [
    {
     "name": "stdout",
     "output_type": "stream",
     "text": [
      "Function: difference_of_gaussian_func\n",
      "Parameters: ['device', 'src', 'dst', 'sigma1_x', 'sigma1_y', 'sigma1_z', 'sigma2_x', 'sigma2_y', 'sigma2_z']\n",
      "\n",
      "difference_of_gaussian_func difference_of_gaussian\n",
      "\t m.def(\"_difference_of_gaussian\", &cle::tier2::difference_of_gaussian_func, \"Call difference_of_gaussian from C++.\",\n",
      "\t\tpy::return_value_policy::take_ownership,\n",
      "\t\tpy::arg(\"device\"), py::arg(\"src\"), py::arg(\"dst\"), py::arg(\"sigma1_x\"), py::arg(\"sigma1_y\"), py::arg(\"sigma1_z\"), py::arg(\"sigma2_x\"), py::arg(\"sigma2_y\"), py::arg(\"sigma2_z\"));\n"
     ]
    }
   ],
   "source": [
    "wrapper_functions = []\n",
    "\n",
    "file_content = read_file(files[0])\n",
    "function_parameters = parse_file(file_content)\n",
    "function_parameters = parse_file(file_content)\n",
    "\n",
    "# Print the function names and their corresponding parameter names\n",
    "for function_name, parameter_names in function_parameters.items():\n",
    "    print(f\"Function: {function_name}\")\n",
    "    print(f\"Parameters: {parameter_names}\")\n",
    "    print()\n",
    "\n",
    "for function_name, parameter_names in function_parameters.items():\n",
    "    wrap = generate_function(tier, function_name, parameter_names)\n",
    "    wrapper_functions.append(wrap)\n",
    "\n",
    "# print each wrapper function on a new line \n",
    "for wrapper_function in wrapper_functions:\n",
    "    print(\"\\t\",wrapper_function)"
   ]
  },
  {
   "attachments": {},
   "cell_type": "markdown",
   "metadata": {},
   "source": [
    "We create the wrapper file to contains the Tier functions currently processed. And for each function, we add the wrapper code to the file."
   ]
  },
  {
   "cell_type": "code",
   "execution_count": 77,
   "metadata": {},
   "outputs": [],
   "source": [
    "# create a cpp file for the current tier call cleTierX.cpp\n",
    "\n",
    "# get the path to the current directory\n",
    "current_dir = os.path.dirname(os.path.abspath(__file__))\n",
    "# get the path to the directory where the cpp file should be stored\n",
    "cpp_dir = os.path.join(current_dir, '..', 'wrapper')\n",
    "# create the cpp file\n",
    "cpp_file = os.path.join(cpp_dir, 'tier' + str(tier) + '_wrapper.cpp')\n",
    "\n",
    "# if the file already exists, rename it to cleTierX_old.cpp\n",
    "if os.path.exists(cpp_file):\n",
    "    os.rename(cpp_file, cpp_file.replace('.cpp', '_old.cpp'))\n",
    "\n",
    "with open(cpp_file, 'w') as f:\n",
    "    # write the header for pyclesperanto\n",
    "    f.write('#include \"pyclesperanto.hpp\"\\n')\n",
    "    f.write(f'#include \"tier{tier}.hpp\"\\n')\n",
    "    # skip a line\n",
    "    f.write('\\n')\n",
    "    f.write('namespace py = pybind11;\\n')\n",
    "    f.write('\\n')\n",
    "    # write the module function\n",
    "    f.write('auto wrapper_tier' + str(tier) + '(py::module_ &m) -> void\\n{\\n')\n",
    "    # skip a line\n",
    "    f.write('\\n')\n",
    "    # write the wrapper functions\n",
    "    for wrapper_function in wrapper_functions:\n",
    "        f.write('\\t' + wrapper_function + '\\n')\n",
    "        f.write('\\n')\n",
    "    # close the module function\n",
    "    f.write('}')"
   ]
  }
 ],
 "metadata": {
  "kernelspec": {
   "display_name": "skbuild",
   "language": "python",
   "name": "python3"
  },
  "language_info": {
   "codemirror_mode": {
    "name": "ipython",
    "version": 3
   },
   "file_extension": ".py",
   "mimetype": "text/x-python",
   "name": "python",
   "nbconvert_exporter": "python",
   "pygments_lexer": "ipython3",
   "version": "3.10.9"
  },
  "orig_nbformat": 4,
  "vscode": {
   "interpreter": {
    "hash": "1bf89b5e425e511e6208a82dd7a3225392f448ad069ddd9557f507f6073233bf"
   }
  }
 },
 "nbformat": 4,
 "nbformat_minor": 2
}
