{
 "cells": [
  {
   "cell_type": "markdown",
   "metadata": {},
   "source": [
    "# Raw example of API usage in Python of the C++ wrapper classes"
   ]
  },
  {
   "cell_type": "markdown",
   "metadata": {},
   "source": [
    "We do not rely on any python overlay for now, as we want to expose how C++ pybind11 classes look like from a python point of view.\n",
    "\n",
    "The `import pyclesperanto as pycle` will import the python package directly linked to the `_pyclesperanto.so` library file.\n",
    "\n",
    "This notebook is mainly here to highlyt what is currently visible from the C++ and provide discussion material for the design and implementation of a pure python layer API over it, similar to pyclesperanto-prototype for example."
   ]
  },
  {
   "cell_type": "markdown",
   "metadata": {},
   "source": [
    "## Imports"
   ]
  },
  {
   "cell_type": "code",
   "execution_count": 1,
   "metadata": {},
   "outputs": [],
   "source": [
    "import numpy as np\n",
    "from pyclesperanto import _pyclesperanto as pycle"
   ]
  },
  {
   "cell_type": "markdown",
   "metadata": {},
   "source": [
    "## Device allocation"
   ]
  },
  {
   "cell_type": "markdown",
   "metadata": {},
   "source": [
    "After imports, we need to allocated a device. This requires to instanciate a gpu object."
   ]
  },
  {
   "cell_type": "code",
   "execution_count": 2,
   "metadata": {},
   "outputs": [
    {
     "name": "stdout",
     "output_type": "stream",
     "text": [
      "[NVIDIA CUDA - NVIDIA GeForce GTX 1050 Ti]\n",
      "\tDevicedeviceType: 4\n",
      "\tMaxComputeUnits: 6\n",
      "\tMaxClockFrequency: 1455\n",
      "\tVersion: OpenCL 3.0 CUDA\n",
      "\tExtensions: cl_khr_global_int32_base_atomics cl_khr_global_int32_extended_atomics cl_khr_local_int32_base_atomics cl_khr_local_int32_extended_atomics cl_khr_fp64 cl_khr_3d_image_writes cl_khr_byte_addressable_store cl_khr_icd cl_khr_gl_sharing cl_nv_compiler_options cl_nv_device_attribute_query cl_nv_pragma_unroll cl_nv_copy_opts cl_nv_create_buffer cl_khr_int64_base_atomics cl_khr_int64_extended_atomics cl_khr_device_uuid cl_khr_pci_bus_info\n",
      "\tGlobalMemorySizeInBytes: 4233035776\n",
      "\tLocalMemorySizeInBytes: 49152\n",
      "\tMaxMemoryAllocationSizeInBytes: 1058258944\n",
      "\tMaxWorkGroupSize: 1024\n",
      "\n"
     ]
    }
   ],
   "source": [
    "device = pycle.gpu()\n",
    "print(device.info()) # the print is required in order to keep the formating from c++\n",
    "                     # the () are required as info() it is a c++ class method"
   ]
  },
  {
   "cell_type": "markdown",
   "metadata": {},
   "source": [
    "It is also possible to select a specific device using a string key word contained in its name, for example:"
   ]
  },
  {
   "cell_type": "code",
   "execution_count": 3,
   "metadata": {},
   "outputs": [
    {
     "name": "stdout",
     "output_type": "stream",
     "text": [
      "[NVIDIA CUDA - NVIDIA GeForce GTX 1050 Ti]\n",
      "\tDevicedeviceType: 4\n",
      "\tMaxComputeUnits: 6\n",
      "\tMaxClockFrequency: 1455\n",
      "\tVersion: OpenCL 3.0 CUDA\n",
      "\tExtensions: cl_khr_global_int32_base_atomics cl_khr_global_int32_extended_atomics cl_khr_local_int32_base_atomics cl_khr_local_int32_extended_atomics cl_khr_fp64 cl_khr_3d_image_writes cl_khr_byte_addressable_store cl_khr_icd cl_khr_gl_sharing cl_nv_compiler_options cl_nv_device_attribute_query cl_nv_pragma_unroll cl_nv_copy_opts cl_nv_create_buffer cl_khr_int64_base_atomics cl_khr_int64_extended_atomics cl_khr_device_uuid cl_khr_pci_bus_info\n",
      "\tGlobalMemorySizeInBytes: 4233035776\n",
      "\tLocalMemorySizeInBytes: 49152\n",
      "\tMaxMemoryAllocationSizeInBytes: 1058258944\n",
      "\tMaxWorkGroupSize: 1024\n",
      "\n"
     ]
    }
   ],
   "source": [
    "device.select_device(\"GTX\")\n",
    "print(device.info())"
   ]
  },
  {
   "cell_type": "code",
   "execution_count": 4,
   "metadata": {},
   "outputs": [
    {
     "name": "stdout",
     "output_type": "stream",
     "text": [
      "Help on class gpu in module pyclesperanto._pyclesperanto:\n",
      "\n",
      "class gpu(pybind11_builtins.pybind11_object)\n",
      " |  gpu class wrapper\n",
      " |  -----------------------\n",
      " |  select_device()\n",
      " |  info()\n",
      " |  name()\n",
      " |  score()\n",
      " |  set_wait_for_kernel_to_finish()\n",
      " |  \n",
      " |  create()\n",
      " |  push()\n",
      " |  pull()\n",
      " |  \n",
      " |  Method resolution order:\n",
      " |      gpu\n",
      " |      pybind11_builtins.pybind11_object\n",
      " |      builtins.object\n",
      " |  \n",
      " |  Methods defined here:\n",
      " |  \n",
      " |  __init__(...)\n",
      " |      __init__(*args, **kwargs)\n",
      " |      Overloaded function.\n",
      " |      \n",
      " |      1. __init__(self: pyclesperanto._pyclesperanto.gpu) -> None\n",
      " |      \n",
      " |      GPU default constructor\n",
      " |      \n",
      " |      2. __init__(self: pyclesperanto._pyclesperanto.gpu, t_device_name: str, t_device_type: str = 'all') -> None\n",
      " |      \n",
      " |      GPU constructor\n",
      " |  \n",
      " |  create(...)\n",
      " |      create(self: pyclesperanto._pyclesperanto.gpu, dimensions: numpy.ndarray[numpy.float32], t_type: str = 'buffer') -> PyData\n",
      " |      \n",
      " |      create an empty gpu array\n",
      " |  \n",
      " |  info(...)\n",
      " |      info(self: pyclesperanto._pyclesperanto.gpu) -> str\n",
      " |      \n",
      " |      return device informations\n",
      " |  \n",
      " |  name(...)\n",
      " |      name(self: pyclesperanto._pyclesperanto.gpu) -> str\n",
      " |      \n",
      " |      return device name\n",
      " |  \n",
      " |  pull(...)\n",
      " |      pull(self: pyclesperanto._pyclesperanto.gpu, gpu_array: PyData) -> numpy.ndarray[numpy.float32]\n",
      " |      \n",
      " |      read a gpu array into numpy\n",
      " |  \n",
      " |  push(...)\n",
      " |      push(self: pyclesperanto._pyclesperanto.gpu, ndarray: numpy.ndarray[numpy.float32], t_type: str = 'buffer') -> PyData\n",
      " |      \n",
      " |      create a gpu array and write numpy array into it\n",
      " |  \n",
      " |  score(...)\n",
      " |      score(self: pyclesperanto._pyclesperanto.gpu) -> float\n",
      " |      \n",
      " |      return device score\n",
      " |  \n",
      " |  select_device(...)\n",
      " |      select_device(self: pyclesperanto._pyclesperanto.gpu, t_device_name: str, t_device_type: str = 'all') -> None\n",
      " |      \n",
      " |      select device from string, return full device name string\n",
      " |  \n",
      " |  set_wait_for_kernel_to_finish(...)\n",
      " |      set_wait_for_kernel_to_finish(self: pyclesperanto._pyclesperanto.gpu, t_flag: bool = True) -> None\n",
      " |      \n",
      " |      Force device to wait until kernel finished\n",
      " |  \n",
      " |  ----------------------------------------------------------------------\n",
      " |  Static methods inherited from pybind11_builtins.pybind11_object:\n",
      " |  \n",
      " |  __new__(*args, **kwargs) from pybind11_builtins.pybind11_type\n",
      " |      Create and return a new object.  See help(type) for accurate signature.\n",
      "\n"
     ]
    }
   ],
   "source": [
    "help(pycle.gpu) # help documentation generated from the class, \n",
    "                  # it reveal the associated methods and their signature"
   ]
  },
  {
   "cell_type": "markdown",
   "metadata": {},
   "source": [
    "The `gpu` class is in charge of managing the device interation, this includes the `create`, `push`, `pull` operations.\n",
    "- create(array, string) allows to allocate memory on the device corresponding to the shape passed in arguments\n",
    "- push(array, string) also create and write the memory on the device from a numpy array shape and data past in argument\n",
    "- pull(gpu_array) will read the memory from the device and return a numpy array\n",
    "\n",
    "With the exception of `pull`, all have a string arguments which allows to decide the type of memory hold is used in the device, a `buffer` or an `image`. The default behaviour is `buffer`."
   ]
  },
  {
   "cell_type": "markdown",
   "metadata": {},
   "source": [
    "## host to device to host behaviour"
   ]
  },
  {
   "cell_type": "markdown",
   "metadata": {},
   "source": [
    "The GPU objects defined by the python class `data` can be buffers (default) or images, and will for now only contain float32 data type.\n",
    "Same as the `gpu` class, it comes with several methods similar to the python numpy class"
   ]
  },
  {
   "cell_type": "code",
   "execution_count": 5,
   "metadata": {},
   "outputs": [
    {
     "name": "stdout",
     "output_type": "stream",
     "text": [
      "Help on class data in module pyclesperanto._pyclesperanto:\n",
      "\n",
      "class data(pybind11_builtins.pybind11_object)\n",
      " |  data class wrapper\n",
      " |  -----------------------\n",
      " |  ndim()\n",
      " |  size()\n",
      " |  shape()\n",
      " |  shape_xyz()\n",
      " |  shape_zyx()\n",
      " |  dtype()\n",
      " |  \n",
      " |  Method resolution order:\n",
      " |      data\n",
      " |      pybind11_builtins.pybind11_object\n",
      " |      builtins.object\n",
      " |  \n",
      " |  Methods defined here:\n",
      " |  \n",
      " |  __init__(...)\n",
      " |      __init__(self: pyclesperanto._pyclesperanto.data) -> None\n",
      " |  \n",
      " |  dtype(...)\n",
      " |      dtype(self: pyclesperanto._pyclesperanto.data) -> str\n",
      " |      \n",
      " |      return object data type (float, double, etc.)\n",
      " |  \n",
      " |  ndim(...)\n",
      " |      ndim(self: pyclesperanto._pyclesperanto.data) -> int\n",
      " |      \n",
      " |      return object dimensionality\n",
      " |  \n",
      " |  shape(...)\n",
      " |      shape(self: pyclesperanto._pyclesperanto.data) -> List[int[3]]\n",
      " |      \n",
      " |      return object shape (z,y,x)\n",
      " |  \n",
      " |  shape_xyz(...)\n",
      " |      shape_xyz(self: pyclesperanto._pyclesperanto.data) -> List[int[3]]\n",
      " |      \n",
      " |      return object shape (x,y,z)\n",
      " |  \n",
      " |  shape_zyx(...)\n",
      " |      shape_zyx(self: pyclesperanto._pyclesperanto.data) -> List[int[3]]\n",
      " |      \n",
      " |      return object shape (z,y,x)\n",
      " |  \n",
      " |  size(...)\n",
      " |      size(self: pyclesperanto._pyclesperanto.data) -> int\n",
      " |      \n",
      " |      return object size (elements wise)\n",
      " |  \n",
      " |  ----------------------------------------------------------------------\n",
      " |  Static methods inherited from pybind11_builtins.pybind11_object:\n",
      " |  \n",
      " |  __new__(*args, **kwargs) from pybind11_builtins.pybind11_type\n",
      " |      Create and return a new object.  See help(type) for accurate signature.\n",
      "\n"
     ]
    }
   ],
   "source": [
    "help(pycle.data)"
   ]
  },
  {
   "cell_type": "markdown",
   "metadata": {},
   "source": [
    "The gpu device class is the only way to properly create a GPU object throught the commande usage `push` and `create`.\n",
    "And the only way to read its contend is to first `pull` it from the device into the host memory "
   ]
  },
  {
   "cell_type": "code",
   "execution_count": 6,
   "metadata": {},
   "outputs": [],
   "source": [
    "# we create an array on the host side\n",
    "input_array = np.random.rand(2,5,10)\n",
    "# we push the array from the host to the device as a buffer\n",
    "gpu_input_array = device.push(input_array, \"buffer\")\n",
    "# we create an output memory space (an image, not a buffer this time) on the device of the same size as the input\n",
    "gpu_output_array = device.create(input_array.shape, \"image\")\n",
    "# we can read then from device to host\n",
    "output_array = device.pull(gpu_input_array)"
   ]
  },
  {
   "cell_type": "code",
   "execution_count": 7,
   "metadata": {},
   "outputs": [
    {
     "name": "stdout",
     "output_type": "stream",
     "text": [
      "host input numpy array:\t <class 'numpy.ndarray'> (2, 5, 10) float64\n",
      "device buffer array:\t <class 'pyclesperanto._pyclesperanto.data'> [2, 5, 10] float\n",
      "device image array:\t <class 'pyclesperanto._pyclesperanto.data'> [2, 5, 10] float\n",
      "host output numpy array: <class 'numpy.ndarray'> (2, 5, 10) float32\n"
     ]
    }
   ],
   "source": [
    "print(\"host input numpy array:\\t\", type(input_array), input_array.shape, input_array.dtype)\n",
    "print(\"device buffer array:\\t\", type(gpu_input_array), gpu_input_array.shape(), gpu_input_array.dtype())\n",
    "print(\"device image array:\\t\", type(gpu_output_array), gpu_output_array.shape(), gpu_output_array.dtype())\n",
    "print(\"host output numpy array:\", type(output_array), output_array.shape, output_array.dtype)"
   ]
  },
  {
   "cell_type": "markdown",
   "metadata": {},
   "source": [
    "When push or create on the device, both methods automatically flip the data dimensions from numpy standard (zyx) to C++ (xyz), it is flipped again when reading from device to host.\n",
    "Few details to notice:\n",
    "- C++ class methods requires `()`\n",
    "- C++ `shape()` method return a list, not a tuple like numpy\n",
    "- C++ `dtype()` method display the type according to C++ native types, here `float` corresponding to `float32`\n",
    "- pull return array type is `float32` not `float64` like the input was\n",
    "\n",
    "it is possible to display the shape in the standard we wish, though is is purely visual"
   ]
  },
  {
   "cell_type": "code",
   "execution_count": 8,
   "metadata": {},
   "outputs": [
    {
     "name": "stdout",
     "output_type": "stream",
     "text": [
      "default display: <class 'pyclesperanto._pyclesperanto.data'> [2, 5, 10] float\n",
      "zyx display: <class 'pyclesperanto._pyclesperanto.data'> [2, 5, 10] float\n",
      "xyz zdisplay: <class 'pyclesperanto._pyclesperanto.data'> [10, 5, 2] float\n"
     ]
    }
   ],
   "source": [
    "print(\"default display:\", type(gpu_input_array), gpu_input_array.shape(), gpu_input_array.dtype())\n",
    "print(\"zyx display:\", type(gpu_input_array), gpu_input_array.shape_zyx(), gpu_input_array.dtype())\n",
    "print(\"xyz zdisplay:\", type(gpu_input_array), gpu_input_array.shape_xyz(), gpu_input_array.dtype())"
   ]
  },
  {
   "cell_type": "markdown",
   "metadata": {},
   "source": [
    "More example for various data shape to see code behaviour:"
   ]
  },
  {
   "cell_type": "code",
   "execution_count": 9,
   "metadata": {},
   "outputs": [
    {
     "name": "stdout",
     "output_type": "stream",
     "text": [
      "Test with shape (1,5,10)\n",
      "\thost input array: <class 'numpy.ndarray'> (1, 5, 10) float64\n",
      "\tdevice array: <class 'pyclesperanto._pyclesperanto.data'> [1, 5, 10] float\n",
      "\thost output array: <class 'numpy.ndarray'> (5, 10) float32\n",
      "Test with shape (5,10)\n",
      "\thost input array: <class 'numpy.ndarray'> (5, 10) float64\n",
      "\tdevice array: <class 'pyclesperanto._pyclesperanto.data'> [1, 5, 10] float\n",
      "\thost output array: <class 'numpy.ndarray'> (5, 10) float32\n",
      "Test with shape (1,1,10)\n",
      "\thost input array: <class 'numpy.ndarray'> (1, 1, 10) float64\n",
      "\tdevice array: <class 'pyclesperanto._pyclesperanto.data'> [1, 1, 10] float\n",
      "\thost output array: <class 'numpy.ndarray'> (10,) float32\n",
      "Test with shape (10)\n",
      "\thost input array: <class 'numpy.ndarray'> (10,) float64\n",
      "\tdevice array: <class 'pyclesperanto._pyclesperanto.data'> [1, 1, 10] float\n",
      "\thost output array: <class 'numpy.ndarray'> (10,) float32\n",
      "Test with shape (1,1,1)\n",
      "\thost input array: <class 'numpy.ndarray'> (1, 1, 1) float64\n",
      "\tdevice array: <class 'pyclesperanto._pyclesperanto.data'> [1, 1, 1] float\n",
      "\thost output array: <class 'numpy.ndarray'> () float32\n",
      "Test with shape (1)\n",
      "\thost input array: <class 'numpy.ndarray'> (1,) float64\n",
      "\tdevice array: <class 'pyclesperanto._pyclesperanto.data'> [1, 1, 1] float\n",
      "\thost output array: <class 'numpy.ndarray'> () float32\n"
     ]
    }
   ],
   "source": [
    "print(\"Test with shape (1,5,10)\")\n",
    "input_array = np.random.rand(1,5,10)\n",
    "gpu_input_array = device.push(input_array)\n",
    "output_array = device.pull(gpu_input_array)\n",
    "print(\"\\thost input array:\", type(input_array), input_array.shape, input_array.dtype)\n",
    "print(\"\\tdevice array:\", type(gpu_input_array), gpu_input_array.shape(), gpu_input_array.dtype())\n",
    "print(\"\\thost output array:\", type(output_array), output_array.shape, output_array.dtype)\n",
    "\n",
    "print(\"Test with shape (5,10)\")\n",
    "input_array = np.random.rand(5,10)\n",
    "gpu_input_array = device.push(input_array)\n",
    "output_array = device.pull(gpu_input_array)\n",
    "print(\"\\thost input array:\", type(input_array), input_array.shape, input_array.dtype)\n",
    "print(\"\\tdevice array:\", type(gpu_input_array), gpu_input_array.shape(), gpu_input_array.dtype())\n",
    "print(\"\\thost output array:\", type(output_array), output_array.shape, output_array.dtype)\n",
    "\n",
    "print(\"Test with shape (1,1,10)\")\n",
    "input_array = np.random.rand(1,1,10)\n",
    "gpu_input_array = device.push(input_array)\n",
    "output_array = device.pull(gpu_input_array)\n",
    "print(\"\\thost input array:\", type(input_array), input_array.shape, input_array.dtype)\n",
    "print(\"\\tdevice array:\", type(gpu_input_array), gpu_input_array.shape(), gpu_input_array.dtype())\n",
    "print(\"\\thost output array:\", type(output_array), output_array.shape, output_array.dtype)\n",
    "\n",
    "print(\"Test with shape (10)\")\n",
    "input_array = np.random.rand(10)\n",
    "gpu_input_array = device.push(input_array)\n",
    "output_array = device.pull(gpu_input_array)\n",
    "print(\"\\thost input array:\", type(input_array), input_array.shape, input_array.dtype)\n",
    "print(\"\\tdevice array:\", type(gpu_input_array), gpu_input_array.shape(), gpu_input_array.dtype())\n",
    "print(\"\\thost output array:\", type(output_array), output_array.shape, output_array.dtype)\n",
    "\n",
    "print(\"Test with shape (1,1,1)\")\n",
    "input_array = np.random.rand(1,1,1)\n",
    "gpu_input_array = device.push(input_array)\n",
    "output_array = device.pull(gpu_input_array)\n",
    "print(\"\\thost input array:\", type(input_array), input_array.shape, input_array.dtype)\n",
    "print(\"\\tdevice array:\", type(gpu_input_array), gpu_input_array.shape(), gpu_input_array.dtype())\n",
    "print(\"\\thost output array:\", type(output_array), output_array.shape, output_array.dtype)\n",
    "\n",
    "print(\"Test with shape (1)\")\n",
    "input_array = np.random.rand(1)\n",
    "gpu_input_array = device.push(input_array)\n",
    "output_array = device.pull(gpu_input_array)\n",
    "print(\"\\thost input array:\", type(input_array), input_array.shape, input_array.dtype)\n",
    "print(\"\\tdevice array:\", type(gpu_input_array), gpu_input_array.shape(), gpu_input_array.dtype())\n",
    "print(\"\\thost output array:\", type(output_array), output_array.shape, output_array.dtype)"
   ]
  },
  {
   "cell_type": "markdown",
   "metadata": {},
   "source": [
    "## Kernels usage "
   ]
  },
  {
   "cell_type": "markdown",
   "metadata": {},
   "source": [
    "Here kernels would correspond to an image processing operation to be executed on the device. By convention nearly all kernels take as parameters as input and an output, both already defined by the user.\n",
    "\n",
    "Their visibility through the pyclesperanto package is direct, for example `from pyclesperanto import add_image_and_scalar` will make the `add_image_and_scalar` kernel available. "
   ]
  },
  {
   "cell_type": "code",
   "execution_count": 10,
   "metadata": {},
   "outputs": [],
   "source": [
    "# host data\n",
    "input_array = np.random.rand(2,3,4).astype(np.float32)\n",
    "\n",
    "# device input and output\n",
    "gpu_input  = device.push(input_array)\n",
    "gpu_output = device.create(input_array.shape)\n",
    "\n",
    "# execute kernel\n",
    "pycle.add_image_and_scalar(device=device, input=gpu_input, output=gpu_output, scalar=100)\n",
    "\n",
    "# read output from device to host\n",
    "result_array = device.pull(gpu_output)\n",
    "valid_array = input_array + 100"
   ]
  },
  {
   "cell_type": "code",
   "execution_count": 11,
   "metadata": {},
   "outputs": [
    {
     "name": "stdout",
     "output_type": "stream",
     "text": [
      "gpu output= 2412.4607 , vs host output= 2412.4607\n"
     ]
    }
   ],
   "source": [
    "print( \"gpu output=\", np.sum(result_array), \", vs host output=\" , np.sum(valid_array) )"
   ]
  },
  {
   "cell_type": "markdown",
   "metadata": {},
   "source": [
    "Important point to raise:\n",
    "- All kernel operation first argument is always the device.\n",
    "- C++ side already allows to define arguments tags, those will normally mimic the one used in the CLIc\n",
    "- As arguments tags are available, the arguments order is flexible"
   ]
  },
  {
   "cell_type": "code",
   "execution_count": 12,
   "metadata": {},
   "outputs": [
    {
     "name": "stdout",
     "output_type": "stream",
     "text": [
      "gpu output= 2412.4607 , vs host output= 2412.4607\n"
     ]
    }
   ],
   "source": [
    "pycle.add_image_and_scalar(output=gpu_output, device=device, scalar=100, input=gpu_input)\n",
    "print( \"gpu output=\", np.sum(result_array), \", vs host output=\" , np.sum(valid_array) )"
   ]
  },
  {
   "cell_type": "markdown",
   "metadata": {},
   "source": [
    "Currently these kernels are organised per tiers (tier1, tier2, etc.) depending on dependency. Tier2 kernel will requiere one or more kernel from tier1, etc.\n",
    "Their are not linked to any class so far and are directly accessible as function of the package.\n",
    "This is the reason why the device is required as a parameter, but it offers a better flexibility of imports.\n",
    "\n",
    "Documentation and signature is available with the help function"
   ]
  },
  {
   "cell_type": "code",
   "execution_count": 13,
   "metadata": {},
   "outputs": [
    {
     "name": "stdout",
     "output_type": "stream",
     "text": [
      "Help on built-in function add_image_and_scalar in module pyclesperanto._pyclesperanto:\n",
      "\n",
      "add_image_and_scalar(...) method of builtins.PyCapsule instance\n",
      "    add_image_and_scalar(device: pyclesperanto._pyclesperanto.gpu, input: pyclesperanto._pyclesperanto.data, output: pyclesperanto._pyclesperanto.data, scalar: float) -> None\n",
      "    \n",
      "    add scalar value to image\n",
      "\n"
     ]
    }
   ],
   "source": [
    "help(pycle.add_image_and_scalar)"
   ]
  },
  {
   "cell_type": "markdown",
   "metadata": {},
   "source": [
    "## Package overview"
   ]
  },
  {
   "cell_type": "markdown",
   "metadata": {},
   "source": [
    "Finally a more global view of the package is also available with the help function directly on the pyclesperanto package"
   ]
  },
  {
   "cell_type": "code",
   "execution_count": 14,
   "metadata": {},
   "outputs": [
    {
     "name": "stdout",
     "output_type": "stream",
     "text": [
      "Help on module pyclesperanto._pyclesperanto in pyclesperanto:\n",
      "\n",
      "NAME\n",
      "    pyclesperanto._pyclesperanto\n",
      "\n",
      "DESCRIPTION\n",
      "    tier4 wrapper\n",
      "    -----------------------\n",
      "    threshold_otsu()\n",
      "    connected_component_labelling_box()\n",
      "\n",
      "CLASSES\n",
      "    pybind11_builtins.pybind11_object(builtins.object)\n",
      "        data\n",
      "        gpu\n",
      "    \n",
      "    class data(pybind11_builtins.pybind11_object)\n",
      "     |  data class wrapper\n",
      "     |  -----------------------\n",
      "     |  ndim()\n",
      "     |  size()\n",
      "     |  shape()\n",
      "     |  shape_xyz()\n",
      "     |  shape_zyx()\n",
      "     |  dtype()\n",
      "     |  \n",
      "     |  Method resolution order:\n",
      "     |      data\n",
      "     |      pybind11_builtins.pybind11_object\n",
      "     |      builtins.object\n",
      "     |  \n",
      "     |  Methods defined here:\n",
      "     |  \n",
      "     |  __init__(...)\n",
      "     |      __init__(self: pyclesperanto._pyclesperanto.data) -> None\n",
      "     |  \n",
      "     |  dtype(...)\n",
      "     |      dtype(self: pyclesperanto._pyclesperanto.data) -> str\n",
      "     |      \n",
      "     |      return object data type (float, double, etc.)\n",
      "     |  \n",
      "     |  ndim(...)\n",
      "     |      ndim(self: pyclesperanto._pyclesperanto.data) -> int\n",
      "     |      \n",
      "     |      return object dimensionality\n",
      "     |  \n",
      "     |  shape(...)\n",
      "     |      shape(self: pyclesperanto._pyclesperanto.data) -> List[int[3]]\n",
      "     |      \n",
      "     |      return object shape (z,y,x)\n",
      "     |  \n",
      "     |  shape_xyz(...)\n",
      "     |      shape_xyz(self: pyclesperanto._pyclesperanto.data) -> List[int[3]]\n",
      "     |      \n",
      "     |      return object shape (x,y,z)\n",
      "     |  \n",
      "     |  shape_zyx(...)\n",
      "     |      shape_zyx(self: pyclesperanto._pyclesperanto.data) -> List[int[3]]\n",
      "     |      \n",
      "     |      return object shape (z,y,x)\n",
      "     |  \n",
      "     |  size(...)\n",
      "     |      size(self: pyclesperanto._pyclesperanto.data) -> int\n",
      "     |      \n",
      "     |      return object size (elements wise)\n",
      "     |  \n",
      "     |  ----------------------------------------------------------------------\n",
      "     |  Static methods inherited from pybind11_builtins.pybind11_object:\n",
      "     |  \n",
      "     |  __new__(*args, **kwargs) from pybind11_builtins.pybind11_type\n",
      "     |      Create and return a new object.  See help(type) for accurate signature.\n",
      "    \n",
      "    class gpu(pybind11_builtins.pybind11_object)\n",
      "     |  gpu class wrapper\n",
      "     |  -----------------------\n",
      "     |  select_device()\n",
      "     |  info()\n",
      "     |  name()\n",
      "     |  score()\n",
      "     |  set_wait_for_kernel_to_finish()\n",
      "     |  \n",
      "     |  create()\n",
      "     |  push()\n",
      "     |  pull()\n",
      "     |  \n",
      "     |  Method resolution order:\n",
      "     |      gpu\n",
      "     |      pybind11_builtins.pybind11_object\n",
      "     |      builtins.object\n",
      "     |  \n",
      "     |  Methods defined here:\n",
      "     |  \n",
      "     |  __init__(...)\n",
      "     |      __init__(*args, **kwargs)\n",
      "     |      Overloaded function.\n",
      "     |      \n",
      "     |      1. __init__(self: pyclesperanto._pyclesperanto.gpu) -> None\n",
      "     |      \n",
      "     |      GPU default constructor\n",
      "     |      \n",
      "     |      2. __init__(self: pyclesperanto._pyclesperanto.gpu, t_device_name: str, t_device_type: str = 'all') -> None\n",
      "     |      \n",
      "     |      GPU constructor\n",
      "     |  \n",
      "     |  create(...)\n",
      "     |      create(self: pyclesperanto._pyclesperanto.gpu, dimensions: numpy.ndarray[numpy.float32], t_type: str = 'buffer') -> PyData\n",
      "     |      \n",
      "     |      create an empty gpu array\n",
      "     |  \n",
      "     |  info(...)\n",
      "     |      info(self: pyclesperanto._pyclesperanto.gpu) -> str\n",
      "     |      \n",
      "     |      return device informations\n",
      "     |  \n",
      "     |  name(...)\n",
      "     |      name(self: pyclesperanto._pyclesperanto.gpu) -> str\n",
      "     |      \n",
      "     |      return device name\n",
      "     |  \n",
      "     |  pull(...)\n",
      "     |      pull(self: pyclesperanto._pyclesperanto.gpu, gpu_array: PyData) -> numpy.ndarray[numpy.float32]\n",
      "     |      \n",
      "     |      read a gpu array into numpy\n",
      "     |  \n",
      "     |  push(...)\n",
      "     |      push(self: pyclesperanto._pyclesperanto.gpu, ndarray: numpy.ndarray[numpy.float32], t_type: str = 'buffer') -> PyData\n",
      "     |      \n",
      "     |      create a gpu array and write numpy array into it\n",
      "     |  \n",
      "     |  score(...)\n",
      "     |      score(self: pyclesperanto._pyclesperanto.gpu) -> float\n",
      "     |      \n",
      "     |      return device score\n",
      "     |  \n",
      "     |  select_device(...)\n",
      "     |      select_device(self: pyclesperanto._pyclesperanto.gpu, t_device_name: str, t_device_type: str = 'all') -> None\n",
      "     |      \n",
      "     |      select device from string, return full device name string\n",
      "     |  \n",
      "     |  set_wait_for_kernel_to_finish(...)\n",
      "     |      set_wait_for_kernel_to_finish(self: pyclesperanto._pyclesperanto.gpu, t_flag: bool = True) -> None\n",
      "     |      \n",
      "     |      Force device to wait until kernel finished\n",
      "     |  \n",
      "     |  ----------------------------------------------------------------------\n",
      "     |  Static methods inherited from pybind11_builtins.pybind11_object:\n",
      "     |  \n",
      "     |  __new__(*args, **kwargs) from pybind11_builtins.pybind11_type\n",
      "     |      Create and return a new object.  See help(type) for accurate signature.\n",
      "\n",
      "FUNCTIONS\n",
      "    absolute(...) method of builtins.PyCapsule instance\n",
      "        absolute(device: pyclesperanto._pyclesperanto.gpu, input: pyclesperanto._pyclesperanto.data, output: pyclesperanto._pyclesperanto.data) -> None\n",
      "        \n",
      "        compute absolute values\n",
      "    \n",
      "    add_image_and_scalar(...) method of builtins.PyCapsule instance\n",
      "        add_image_and_scalar(device: pyclesperanto._pyclesperanto.gpu, input: pyclesperanto._pyclesperanto.data, output: pyclesperanto._pyclesperanto.data, scalar: float) -> None\n",
      "        \n",
      "        add scalar value to image\n",
      "    \n",
      "    add_images(...) method of builtins.PyCapsule instance\n",
      "        add_images(device: pyclesperanto._pyclesperanto.gpu, input1: pyclesperanto._pyclesperanto.data, input2: pyclesperanto._pyclesperanto.data, output: pyclesperanto._pyclesperanto.data) -> None\n",
      "        \n",
      "        add images\n",
      "    \n",
      "    add_images_weighted(...) method of builtins.PyCapsule instance\n",
      "        add_images_weighted(device: pyclesperanto._pyclesperanto.gpu, input1: pyclesperanto._pyclesperanto.data, input2: pyclesperanto._pyclesperanto.data, output: pyclesperanto._pyclesperanto.data, scalar0: float, scalar1: float) -> None\n",
      "        \n",
      "        add images with weight\n",
      "    \n",
      "    binary_and(...) method of builtins.PyCapsule instance\n",
      "        binary_and(device: pyclesperanto._pyclesperanto.gpu, input1: pyclesperanto._pyclesperanto.data, input2: pyclesperanto._pyclesperanto.data, output: pyclesperanto._pyclesperanto.data) -> None\n",
      "        \n",
      "        binary and operation\n",
      "    \n",
      "    binary_not(...) method of builtins.PyCapsule instance\n",
      "        binary_not(device: pyclesperanto._pyclesperanto.gpu, input: pyclesperanto._pyclesperanto.data, output: pyclesperanto._pyclesperanto.data) -> None\n",
      "        \n",
      "        binary not operation\n",
      "    \n",
      "    binary_or(...) method of builtins.PyCapsule instance\n",
      "        binary_or(device: pyclesperanto._pyclesperanto.gpu, input1: pyclesperanto._pyclesperanto.data, input2: pyclesperanto._pyclesperanto.data, output: pyclesperanto._pyclesperanto.data) -> None\n",
      "        \n",
      "        binary or operation\n",
      "    \n",
      "    binary_subtract(...) method of builtins.PyCapsule instance\n",
      "        binary_subtract(device: pyclesperanto._pyclesperanto.gpu, input1: pyclesperanto._pyclesperanto.data, input2: pyclesperanto._pyclesperanto.data, output: pyclesperanto._pyclesperanto.data) -> None\n",
      "        \n",
      "        binary subtract operation\n",
      "    \n",
      "    binary_xor(...) method of builtins.PyCapsule instance\n",
      "        binary_xor(device: pyclesperanto._pyclesperanto.gpu, input1: pyclesperanto._pyclesperanto.data, input2: pyclesperanto._pyclesperanto.data, output: pyclesperanto._pyclesperanto.data) -> None\n",
      "        \n",
      "        binary xor operation\n",
      "    \n",
      "    block_enumerate(...) method of builtins.PyCapsule instance\n",
      "        block_enumerate(device: pyclesperanto._pyclesperanto.gpu, input: pyclesperanto._pyclesperanto.data, sums: pyclesperanto._pyclesperanto.data, output: pyclesperanto._pyclesperanto.data, blocksize: int) -> None\n",
      "    \n",
      "    close_index_gaps_in_labelmap(...) method of builtins.PyCapsule instance\n",
      "        close_index_gaps_in_labelmap(device: pyclesperanto._pyclesperanto.gpu, input: pyclesperanto._pyclesperanto.data, output: pyclesperanto._pyclesperanto.data, scalar: int) -> None\n",
      "        \n",
      "        re-map label into continuous values\n",
      "    \n",
      "    connected_components_labeling_box(...) method of builtins.PyCapsule instance\n",
      "        connected_components_labeling_box(device: pyclesperanto._pyclesperanto.gpu, input: pyclesperanto._pyclesperanto.data, output: pyclesperanto._pyclesperanto.data) -> None\n",
      "        \n",
      "        connected components labeling box\n",
      "    \n",
      "    copy(...) method of builtins.PyCapsule instance\n",
      "        copy(device: pyclesperanto._pyclesperanto.gpu, input: pyclesperanto._pyclesperanto.data, output: pyclesperanto._pyclesperanto.data) -> None\n",
      "        \n",
      "        copy\n",
      "    \n",
      "    detect_maxima_box(...) method of builtins.PyCapsule instance\n",
      "        detect_maxima_box(device: pyclesperanto._pyclesperanto.gpu, input: pyclesperanto._pyclesperanto.data, output: pyclesperanto._pyclesperanto.data) -> None\n",
      "        \n",
      "        detect maxima\n",
      "    \n",
      "    differnce_of_gaussian(...) method of builtins.PyCapsule instance\n",
      "        differnce_of_gaussian(device: pyclesperanto._pyclesperanto.gpu, input: pyclesperanto._pyclesperanto.data, output: pyclesperanto._pyclesperanto.data, simga1_x: float, simga1_y: float, simga1_z: float, simga2_x: float, simga2_y: float, simga2_z: float) -> None\n",
      "        \n",
      "        Apply a difference of gaussian\n",
      "    \n",
      "    dilate_sphere(...) method of builtins.PyCapsule instance\n",
      "        dilate_sphere(device: pyclesperanto._pyclesperanto.gpu, input: pyclesperanto._pyclesperanto.data, output: pyclesperanto._pyclesperanto.data) -> None\n",
      "        \n",
      "        dilate sphere\n",
      "    \n",
      "    equal(...) method of builtins.PyCapsule instance\n",
      "        equal(device: pyclesperanto._pyclesperanto.gpu, input1: pyclesperanto._pyclesperanto.data, input2: pyclesperanto._pyclesperanto.data, output: pyclesperanto._pyclesperanto.data) -> None\n",
      "        \n",
      "        equal binary operation\n",
      "    \n",
      "    equal_constant(...) method of builtins.PyCapsule instance\n",
      "        equal_constant(device: pyclesperanto._pyclesperanto.gpu, input: pyclesperanto._pyclesperanto.data, output: pyclesperanto._pyclesperanto.data, scalar: float) -> None\n",
      "        \n",
      "        equal constant binary operation\n",
      "    \n",
      "    erode_sphere(...) method of builtins.PyCapsule instance\n",
      "        erode_sphere(device: pyclesperanto._pyclesperanto.gpu, input: pyclesperanto._pyclesperanto.data, output: pyclesperanto._pyclesperanto.data) -> None\n",
      "        \n",
      "        erode sphere\n",
      "    \n",
      "    extend_label_via_voronoi(...) method of builtins.PyCapsule instance\n",
      "        extend_label_via_voronoi(device: pyclesperanto._pyclesperanto.gpu, input: pyclesperanto._pyclesperanto.data, output: pyclesperanto._pyclesperanto.data) -> None\n",
      "        \n",
      "        Add buffer and scalar\n",
      "    \n",
      "    flag_existing_labels(...) method of builtins.PyCapsule instance\n",
      "        flag_existing_labels(device: pyclesperanto._pyclesperanto.gpu, input: pyclesperanto._pyclesperanto.data, output: pyclesperanto._pyclesperanto.data) -> None\n",
      "        \n",
      "        list existing label values\n",
      "    \n",
      "    gaussian_blur(...) method of builtins.PyCapsule instance\n",
      "        gaussian_blur(device: pyclesperanto._pyclesperanto.gpu, input: pyclesperanto._pyclesperanto.data, output: pyclesperanto._pyclesperanto.data, sigma_x: float, sigma_y: float, sigma_z: float) -> None\n",
      "        \n",
      "        gaussian blur filter\n",
      "    \n",
      "    greater(...) method of builtins.PyCapsule instance\n",
      "        greater(device: pyclesperanto._pyclesperanto.gpu, input1: pyclesperanto._pyclesperanto.data, input2: pyclesperanto._pyclesperanto.data, output: pyclesperanto._pyclesperanto.data) -> None\n",
      "        \n",
      "        greater binary operation\n",
      "    \n",
      "    greater_constant(...) method of builtins.PyCapsule instance\n",
      "        greater_constant(device: pyclesperanto._pyclesperanto.gpu, input: pyclesperanto._pyclesperanto.data, output: pyclesperanto._pyclesperanto.data, scalar: float) -> None\n",
      "        \n",
      "        greater than constant binary operation\n",
      "    \n",
      "    greater_or_equal(...) method of builtins.PyCapsule instance\n",
      "        greater_or_equal(device: pyclesperanto._pyclesperanto.gpu, input1: pyclesperanto._pyclesperanto.data, input2: pyclesperanto._pyclesperanto.data, output: pyclesperanto._pyclesperanto.data) -> None\n",
      "        \n",
      "        greater or equal binary operation\n",
      "    \n",
      "    greater_or_equal_constant(...) method of builtins.PyCapsule instance\n",
      "        greater_or_equal_constant(device: pyclesperanto._pyclesperanto.gpu, input: pyclesperanto._pyclesperanto.data, output: pyclesperanto._pyclesperanto.data, scalar: float) -> None\n",
      "        \n",
      "        greater or equal constant binary operation\n",
      "    \n",
      "    histogram(...) method of builtins.PyCapsule instance\n",
      "        histogram(device: pyclesperanto._pyclesperanto.gpu, input: pyclesperanto._pyclesperanto.data, output: pyclesperanto._pyclesperanto.data) -> None\n",
      "        \n",
      "        return the histogram\n",
      "    \n",
      "    mask(...) method of builtins.PyCapsule instance\n",
      "        mask(device: pyclesperanto._pyclesperanto.gpu, input: pyclesperanto._pyclesperanto.data, mask: pyclesperanto._pyclesperanto.data, output: pyclesperanto._pyclesperanto.data) -> None\n",
      "        \n",
      "        mask\n",
      "    \n",
      "    maximum_all_pixels(...) method of builtins.PyCapsule instance\n",
      "        maximum_all_pixels(device: pyclesperanto._pyclesperanto.gpu, input: pyclesperanto._pyclesperanto.data, output: pyclesperanto._pyclesperanto.data) -> None\n",
      "        \n",
      "        return the maximum value of all pixels\n",
      "    \n",
      "    maximum_box(...) method of builtins.PyCapsule instance\n",
      "        maximum_box(device: pyclesperanto._pyclesperanto.gpu, input: pyclesperanto._pyclesperanto.data, output: pyclesperanto._pyclesperanto.data, radiux_x: int, radiux_y: int, radiux_z: int) -> None\n",
      "        \n",
      "        maximum box filter\n",
      "    \n",
      "    maximum_x_projection(...) method of builtins.PyCapsule instance\n",
      "        maximum_x_projection(device: pyclesperanto._pyclesperanto.gpu, input: pyclesperanto._pyclesperanto.data, output: pyclesperanto._pyclesperanto.data) -> None\n",
      "        \n",
      "        maximum x projection\n",
      "    \n",
      "    maximum_y_projection(...) method of builtins.PyCapsule instance\n",
      "        maximum_y_projection(device: pyclesperanto._pyclesperanto.gpu, input: pyclesperanto._pyclesperanto.data, output: pyclesperanto._pyclesperanto.data) -> None\n",
      "        \n",
      "        maximum y projection\n",
      "    \n",
      "    maximum_z_projection(...) method of builtins.PyCapsule instance\n",
      "        maximum_z_projection(device: pyclesperanto._pyclesperanto.gpu, input: pyclesperanto._pyclesperanto.data, output: pyclesperanto._pyclesperanto.data) -> None\n",
      "        \n",
      "        maximum z projection\n",
      "    \n",
      "    mean_box(...) method of builtins.PyCapsule instance\n",
      "        mean_box(device: pyclesperanto._pyclesperanto.gpu, input: pyclesperanto._pyclesperanto.data, output: pyclesperanto._pyclesperanto.data, radiux_x: int, radiux_y: int, radiux_z: int) -> None\n",
      "        \n",
      "        mean box filter\n",
      "    \n",
      "    mean_sphere(...) method of builtins.PyCapsule instance\n",
      "        mean_sphere(device: pyclesperanto._pyclesperanto.gpu, input: pyclesperanto._pyclesperanto.data, output: pyclesperanto._pyclesperanto.data, radiux_x: int, radiux_y: int, radiux_z: int) -> None\n",
      "        \n",
      "        mean sphere\n",
      "    \n",
      "    minimum_all_pixels(...) method of builtins.PyCapsule instance\n",
      "        minimum_all_pixels(device: pyclesperanto._pyclesperanto.gpu, input: pyclesperanto._pyclesperanto.data, output: pyclesperanto._pyclesperanto.data) -> None\n",
      "        \n",
      "        return the minimum value of all pixels\n",
      "    \n",
      "    minimum_box(...) method of builtins.PyCapsule instance\n",
      "        minimum_box(device: pyclesperanto._pyclesperanto.gpu, input: pyclesperanto._pyclesperanto.data, output: pyclesperanto._pyclesperanto.data, radiux_x: int, radiux_y: int, radiux_z: int) -> None\n",
      "        \n",
      "        minimum box filter\n",
      "    \n",
      "    minimum_x_projection(...) method of builtins.PyCapsule instance\n",
      "        minimum_x_projection(device: pyclesperanto._pyclesperanto.gpu, input: pyclesperanto._pyclesperanto.data, output: pyclesperanto._pyclesperanto.data) -> None\n",
      "        \n",
      "        minimum x projection\n",
      "    \n",
      "    minimum_y_projection(...) method of builtins.PyCapsule instance\n",
      "        minimum_y_projection(device: pyclesperanto._pyclesperanto.gpu, input: pyclesperanto._pyclesperanto.data, output: pyclesperanto._pyclesperanto.data) -> None\n",
      "        \n",
      "        minimum y projection\n",
      "    \n",
      "    minimum_z_projection(...) method of builtins.PyCapsule instance\n",
      "        minimum_z_projection(device: pyclesperanto._pyclesperanto.gpu, input: pyclesperanto._pyclesperanto.data, output: pyclesperanto._pyclesperanto.data) -> None\n",
      "        \n",
      "        minimum z projection\n",
      "    \n",
      "    nonzero_minimum_box(...) method of builtins.PyCapsule instance\n",
      "        nonzero_minimum_box(device: pyclesperanto._pyclesperanto.gpu, input: pyclesperanto._pyclesperanto.data, flag: pyclesperanto._pyclesperanto.data, output: pyclesperanto._pyclesperanto.data) -> None\n",
      "        \n",
      "        non-zero minimum value box\n",
      "    \n",
      "    not_equal(...) method of builtins.PyCapsule instance\n",
      "        not_equal(device: pyclesperanto._pyclesperanto.gpu, input1: pyclesperanto._pyclesperanto.data, input2: pyclesperanto._pyclesperanto.data, output: pyclesperanto._pyclesperanto.data) -> None\n",
      "        \n",
      "        not equal binary operation\n",
      "    \n",
      "    not_equal_constant(...) method of builtins.PyCapsule instance\n",
      "        not_equal_constant(device: pyclesperanto._pyclesperanto.gpu, input: pyclesperanto._pyclesperanto.data, output: pyclesperanto._pyclesperanto.data, scalar: float) -> None\n",
      "        \n",
      "        not equal constant binary operation\n",
      "    \n",
      "    onlyzero_overwrite_maximum_box(...) method of builtins.PyCapsule instance\n",
      "        onlyzero_overwrite_maximum_box(device: pyclesperanto._pyclesperanto.gpu, input: pyclesperanto._pyclesperanto.data, flag: pyclesperanto._pyclesperanto.data, output: pyclesperanto._pyclesperanto.data) -> None\n",
      "        \n",
      "        overwrite zero value pixel with maximum local pixel box\n",
      "    \n",
      "    onlyzero_overwrite_maximum_diamond(...) method of builtins.PyCapsule instance\n",
      "        onlyzero_overwrite_maximum_diamond(device: pyclesperanto._pyclesperanto.gpu, input: pyclesperanto._pyclesperanto.data, flag: pyclesperanto._pyclesperanto.data, output: pyclesperanto._pyclesperanto.data) -> None\n",
      "        \n",
      "        overwrite zero value pixel with maximum local pixel diamond\n",
      "    \n",
      "    replace_intensities(...) method of builtins.PyCapsule instance\n",
      "        replace_intensities(device: pyclesperanto._pyclesperanto.gpu, input: pyclesperanto._pyclesperanto.data, map: pyclesperanto._pyclesperanto.data, output: pyclesperanto._pyclesperanto.data) -> None\n",
      "        \n",
      "        replace intensities using intensity map\n",
      "    \n",
      "    replace_intensity(...) method of builtins.PyCapsule instance\n",
      "        replace_intensity(device: pyclesperanto._pyclesperanto.gpu, input: pyclesperanto._pyclesperanto.data, output: pyclesperanto._pyclesperanto.data, scalar0: float, scalar1: float) -> None\n",
      "        \n",
      "        replace intensity\n",
      "    \n",
      "    set(...) method of builtins.PyCapsule instance\n",
      "        set(device: pyclesperanto._pyclesperanto.gpu, input: pyclesperanto._pyclesperanto.data, scalar: float) -> None\n",
      "        \n",
      "        set value\n",
      "    \n",
      "    set_column(...) method of builtins.PyCapsule instance\n",
      "        set_column(device: pyclesperanto._pyclesperanto.gpu, input: pyclesperanto._pyclesperanto.data, column: int, scalar: float) -> None\n",
      "        \n",
      "        set column with value\n",
      "    \n",
      "    set_nonzero_pixels_to_pixelindex(...) method of builtins.PyCapsule instance\n",
      "        set_nonzero_pixels_to_pixelindex(device: pyclesperanto._pyclesperanto.gpu, input: pyclesperanto._pyclesperanto.data, output: pyclesperanto._pyclesperanto.data) -> None\n",
      "    \n",
      "    smaller(...) method of builtins.PyCapsule instance\n",
      "        smaller(device: pyclesperanto._pyclesperanto.gpu, input1: pyclesperanto._pyclesperanto.data, input2: pyclesperanto._pyclesperanto.data, output: pyclesperanto._pyclesperanto.data) -> None\n",
      "        \n",
      "        smaller binary operation\n",
      "    \n",
      "    smaller_constant(...) method of builtins.PyCapsule instance\n",
      "        smaller_constant(device: pyclesperanto._pyclesperanto.gpu, input: pyclesperanto._pyclesperanto.data, output: pyclesperanto._pyclesperanto.data, scalar: float) -> None\n",
      "        \n",
      "        smaller constant binary operation\n",
      "    \n",
      "    smaller_or_equal(...) method of builtins.PyCapsule instance\n",
      "        smaller_or_equal(device: pyclesperanto._pyclesperanto.gpu, input1: pyclesperanto._pyclesperanto.data, input2: pyclesperanto._pyclesperanto.data, output: pyclesperanto._pyclesperanto.data) -> None\n",
      "        \n",
      "        smaller or equal binary operation\n",
      "    \n",
      "    smaller_or_equal_constant(...) method of builtins.PyCapsule instance\n",
      "        smaller_or_equal_constant(device: pyclesperanto._pyclesperanto.gpu, input: pyclesperanto._pyclesperanto.data, output: pyclesperanto._pyclesperanto.data, scalar: float) -> None\n",
      "        \n",
      "        smaller or equal const binary operation\n",
      "    \n",
      "    sobel(...) method of builtins.PyCapsule instance\n",
      "        sobel(device: pyclesperanto._pyclesperanto.gpu, input: pyclesperanto._pyclesperanto.data, output: pyclesperanto._pyclesperanto.data) -> None\n",
      "        \n",
      "        sobel edge filter\n",
      "    \n",
      "    subtract_images(...) method of builtins.PyCapsule instance\n",
      "        subtract_images(device: pyclesperanto._pyclesperanto.gpu, input1: pyclesperanto._pyclesperanto.data, input2: pyclesperanto._pyclesperanto.data, output: pyclesperanto._pyclesperanto.data) -> None\n",
      "        \n",
      "        subtract images\n",
      "    \n",
      "    sum_all_pixels(...) method of builtins.PyCapsule instance\n",
      "        sum_all_pixels(device: pyclesperanto._pyclesperanto.gpu, input: pyclesperanto._pyclesperanto.data, output: pyclesperanto._pyclesperanto.data) -> None\n",
      "        \n",
      "        return sum values of all pixels\n",
      "    \n",
      "    sum_reduction_x(...) method of builtins.PyCapsule instance\n",
      "        sum_reduction_x(device: pyclesperanto._pyclesperanto.gpu, input: pyclesperanto._pyclesperanto.data, output: pyclesperanto._pyclesperanto.data, blocksize: int) -> None\n",
      "        \n",
      "        sum reduction along x\n",
      "    \n",
      "    sum_x_projection(...) method of builtins.PyCapsule instance\n",
      "        sum_x_projection(device: pyclesperanto._pyclesperanto.gpu, input: pyclesperanto._pyclesperanto.data, output: pyclesperanto._pyclesperanto.data) -> None\n",
      "        \n",
      "        sum x projection\n",
      "    \n",
      "    sum_y_projection(...) method of builtins.PyCapsule instance\n",
      "        sum_y_projection(device: pyclesperanto._pyclesperanto.gpu, input: pyclesperanto._pyclesperanto.data, output: pyclesperanto._pyclesperanto.data) -> None\n",
      "        \n",
      "        sum y projection\n",
      "    \n",
      "    sum_z_projection(...) method of builtins.PyCapsule instance\n",
      "        sum_z_projection(device: pyclesperanto._pyclesperanto.gpu, input: pyclesperanto._pyclesperanto.data, output: pyclesperanto._pyclesperanto.data) -> None\n",
      "        \n",
      "        sum z projection\n",
      "    \n",
      "    threshold_otsu(...) method of builtins.PyCapsule instance\n",
      "        threshold_otsu(device: pyclesperanto._pyclesperanto.gpu, input: pyclesperanto._pyclesperanto.data, output: pyclesperanto._pyclesperanto.data) -> None\n",
      "        \n",
      "        copy data\n",
      "\n",
      "FILE\n",
      "    /mnt/data/workspace/C++/clEsperanto/pyclesperanto/pyclesperanto/_pyclesperanto.cpython-39-x86_64-linux-gnu.so\n",
      "\n",
      "\n"
     ]
    }
   ],
   "source": [
    "help(pycle)"
   ]
  },
  {
   "cell_type": "markdown",
   "metadata": {},
   "source": [
    "## Test with a real image"
   ]
  },
  {
   "cell_type": "code",
   "execution_count": 15,
   "metadata": {},
   "outputs": [],
   "source": [
    "from skimage.io import imread, imshow"
   ]
  },
  {
   "cell_type": "code",
   "execution_count": 16,
   "metadata": {},
   "outputs": [
    {
     "data": {
      "text/plain": [
       "<matplotlib.image.AxesImage at 0x7f4890484940>"
      ]
     },
     "execution_count": 16,
     "metadata": {},
     "output_type": "execute_result"
    },
    {
     "data": {
      "image/png": "[encoded data removed]",
      "text/plain": [
       "<Figure size 432x288 with 1 Axes>"
      ]
     },
     "metadata": {
      "needs_background": "light"
     },
     "output_type": "display_data"
    }
   ],
   "source": [
    "image = imread(\"blobs.tif\")\n",
    "imshow(image)"
   ]
  },
  {
   "cell_type": "code",
   "execution_count": 17,
   "metadata": {},
   "outputs": [],
   "source": [
    "gpu_image = device.push(image)\n",
    "gpu_output = device.create(image.shape)\n",
    "pycle.gaussian_blur(device=device, input=gpu_image, output=gpu_output, sigma_x=3, sigma_y=3, sigma_z=0)"
   ]
  },
  {
   "cell_type": "code",
   "execution_count": 18,
   "metadata": {},
   "outputs": [
    {
     "name": "stderr",
     "output_type": "stream",
     "text": [
      "/home/stephane/Libraries/anaconda3/envs/opencl/lib/python3.9/site-packages/skimage/io/_plugins/matplotlib_plugin.py:150: UserWarning: Float image out of standard range; displaying image with stretched contrast.\n",
      "  lo, hi, cmap = _get_display_range(image)\n"
     ]
    },
    {
     "data": {
      "text/plain": [
       "<matplotlib.image.AxesImage at 0x7f489038c850>"
      ]
     },
     "execution_count": 18,
     "metadata": {},
     "output_type": "execute_result"
    },
    {
     "data": {
      "image/png": "[encoded data removed]",
      "text/plain": [
       "<Figure size 432x288 with 2 Axes>"
      ]
     },
     "metadata": {
      "needs_background": "light"
     },
     "output_type": "display_data"
    }
   ],
   "source": [
    "result = device.pull(gpu_output)\n",
    "imshow(result)"
   ]
  }
 ],
 "metadata": {
  "kernelspec": {
   "display_name": "Python (opencl)",
   "language": "python",
   "name": "opencl"
  },
  "language_info": {
   "codemirror_mode": {
    "name": "ipython",
    "version": 3
   },
   "file_extension": ".py",
   "mimetype": "text/x-python",
   "name": "python",
   "nbconvert_exporter": "python",
   "pygments_lexer": "ipython3",
   "version": "3.9.12"
  }
 },
 "nbformat": 4,
 "nbformat_minor": 2
}
