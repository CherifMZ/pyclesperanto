{
 "cells": [
  {
   "cell_type": "code",
   "execution_count": 1,
   "metadata": {},
   "outputs": [],
   "source": [
    "import timeit\n",
    "import numpy as np\n",
    "from functools import partial\n",
    "import matplotlib.pyplot as plt\n",
    "\n",
    "from skimage.exposure import histogram\n",
    "import pyclesperanto_prototype as prototype\n",
    "from pyclesperanto import Clesperanto\n",
    "\n",
    "pyclic = Clesperanto()\n",
    "pyclic.set_wait_for_kernel_to_finish()\n",
    "\n",
    "prototype.select_device()\n",
    "prototype.set_wait_for_kernel_finish()"
   ]
  },
  {
   "cell_type": "code",
   "execution_count": 2,
   "metadata": {},
   "outputs": [],
   "source": [
    "def benchmark_prototype_size(target_function):\n",
    "    \"\"\"\n",
    "    Tests a function on a couple of image sizes and returns times taken for processing.\n",
    "    \"\"\"\n",
    "    sizes = np.arange(1, 50) * 10\n",
    "    benchmark_data = []\n",
    "\n",
    "    for size in sizes:\n",
    "        # make new data\n",
    "        image = np.random.rand(size, size)\n",
    "        # bind target function to given image\n",
    "        partial_function = partial(target_function, image)\n",
    "        # warmup       \n",
    "        warm_up_time_in_s = timeit.timeit(partial_function, number=5)\n",
    "        # measure execution time\n",
    "        time_in_s = timeit.timeit(partial_function, number=10)\n",
    "        # store results\n",
    "        benchmark_data.append([size, time_in_s])\n",
    "\n",
    "    return np.asarray(benchmark_data)\n",
    "\n",
    "def benchmark_pyclic_size(target_function):\n",
    "    \"\"\"\n",
    "    Tests a function on a couple of image sizes and returns times taken for processing.\n",
    "    \"\"\"\n",
    "    sizes = np.arange(1, 50) * 10\n",
    "    benchmark_data = []\n",
    "\n",
    "    for size in sizes:\n",
    "        # make new data\n",
    "        image = np.random.rand(size, size)\n",
    "        # bind target function to given image\n",
    "        partial_function = partial(target_function, image)\n",
    "        # warmup       \n",
    "        warm_up_time_in_s = timeit.timeit(partial_function, number=5)\n",
    "        # measure execution time\n",
    "        time_in_s = timeit.timeit(partial_function, number=10)\n",
    "        # store results\n",
    "        benchmark_data.append([size, time_in_s])\n",
    "\n",
    "    return np.asarray(benchmark_data)\n"
   ]
  },
  {
   "cell_type": "markdown",
   "metadata": {},
   "source": [
    "## Push()"
   ]
  },
  {
   "cell_type": "code",
   "execution_count": 3,
   "metadata": {},
   "outputs": [],
   "source": [
    "def pyclic_function(image):\n",
    "    pyclic.push(image)\n",
    "\n",
    "def prototype_function(image):\n",
    "    prototype.push(image)"
   ]
  },
  {
   "cell_type": "code",
   "execution_count": 4,
   "metadata": {},
   "outputs": [],
   "source": [
    "time_pyclic_size = benchmark_pyclic_size(pyclic_function)\n",
    "time_prototype_size = benchmark_prototype_size(prototype_function)"
   ]
  },
  {
   "cell_type": "code",
   "execution_count": 5,
   "metadata": {},
   "outputs": [
    {
     "data": {
      "image/png": "[encoded data removed]",
      "text/plain": [
       "<Figure size 432x288 with 1 Axes>"
      ]
     },
     "metadata": {
      "needs_background": "light"
     },
     "output_type": "display_data"
    }
   ],
   "source": [
    "plt.scatter(time_pyclic_size[:,0] ** 2, time_pyclic_size[:,1])\n",
    "plt.scatter(time_prototype_size[:,0] ** 2, time_prototype_size[:,1])\n",
    "\n",
    "plt.legend([\"pyclic\", \"prototype\"])\n",
    "plt.xlabel(\"Image size in pixels\")\n",
    "plt.ylabel(\"Compute time in s\")\n",
    "plt.show()"
   ]
  },
  {
   "cell_type": "markdown",
   "metadata": {},
   "source": [
    "# Create()"
   ]
  },
  {
   "cell_type": "code",
   "execution_count": 6,
   "metadata": {},
   "outputs": [],
   "source": [
    "def pyclic_function(image):\n",
    "    pyclic.create(image.shape)\n",
    "\n",
    "def prototype_function(image):\n",
    "    prototype.create(image.shape)"
   ]
  },
  {
   "cell_type": "code",
   "execution_count": 7,
   "metadata": {},
   "outputs": [],
   "source": [
    "time_pyclic_size = benchmark_pyclic_size(pyclic_function)\n",
    "time_prototype_size = benchmark_prototype_size(prototype_function)"
   ]
  },
  {
   "cell_type": "code",
   "execution_count": 8,
   "metadata": {},
   "outputs": [
    {
     "data": {
      "image/png": "[encoded data removed]",
      "text/plain": [
       "<Figure size 432x288 with 1 Axes>"
      ]
     },
     "metadata": {
      "needs_background": "light"
     },
     "output_type": "display_data"
    }
   ],
   "source": [
    "plt.scatter(time_pyclic_size[:,0] ** 2, time_pyclic_size[:,1])\n",
    "plt.scatter(time_prototype_size[:,0] ** 2, time_prototype_size[:,1])\n",
    "\n",
    "plt.legend([\"pyclic\", \"prototype\"])\n",
    "plt.xlabel(\"Image size in pixels\")\n",
    "plt.ylabel(\"Compute time in s\")\n",
    "plt.show()"
   ]
  },
  {
   "cell_type": "markdown",
   "metadata": {},
   "source": [
    "# Pull()"
   ]
  },
  {
   "cell_type": "code",
   "execution_count": 9,
   "metadata": {},
   "outputs": [],
   "source": [
    "def benchmark_prototype_size(target_function):\n",
    "    \"\"\"\n",
    "    Tests a function on a couple of image sizes and returns times taken for processing.\n",
    "    \"\"\"\n",
    "    sizes = np.arange(1, 50) * 10\n",
    "    benchmark_data = []\n",
    "\n",
    "    for size in sizes:\n",
    "        # make new data\n",
    "        image = np.random.rand(size, size)\n",
    "        gpu_image = prototype.push(image)\n",
    "        # bind target function to given image\n",
    "        partial_function = partial(target_function, gpu_image)\n",
    "        # warmup       \n",
    "        warm_up_time_in_s = timeit.timeit(partial_function, number=5)\n",
    "        # measure execution time\n",
    "        time_in_s = timeit.timeit(partial_function, number=10)\n",
    "        # store results\n",
    "        benchmark_data.append([size, time_in_s])\n",
    "\n",
    "    return np.asarray(benchmark_data)\n",
    "\n",
    "def benchmark_pyclic_size(target_function):\n",
    "    \"\"\"\n",
    "    Tests a function on a couple of image sizes and returns times taken for processing.\n",
    "    \"\"\"\n",
    "    sizes = np.arange(1, 50) * 10\n",
    "    benchmark_data = []\n",
    "\n",
    "    for size in sizes:\n",
    "        # make new data\n",
    "        image = np.random.rand(size, size)\n",
    "        gpu_image = pyclic.push(image)\n",
    "        # bind target function to given image\n",
    "        partial_function = partial(target_function, gpu_image)\n",
    "        # warmup       \n",
    "        warm_up_time_in_s = timeit.timeit(partial_function, number=5)\n",
    "        # measure execution time\n",
    "        time_in_s = timeit.timeit(partial_function, number=10)\n",
    "        # store results\n",
    "        benchmark_data.append([size, time_in_s])\n",
    "\n",
    "    return np.asarray(benchmark_data)"
   ]
  },
  {
   "cell_type": "code",
   "execution_count": 10,
   "metadata": {},
   "outputs": [],
   "source": [
    "def pyclic_function(gpu_image):\n",
    "    pyclic.pull(gpu_image)\n",
    "\n",
    "def prototype_function(gpu_image):\n",
    "    prototype.pull(gpu_image)"
   ]
  },
  {
   "cell_type": "code",
   "execution_count": 11,
   "metadata": {},
   "outputs": [],
   "source": [
    "time_pyclic_size = benchmark_pyclic_size(pyclic_function)\n",
    "time_prototype_size = benchmark_prototype_size(prototype_function)"
   ]
  },
  {
   "cell_type": "code",
   "execution_count": 12,
   "metadata": {},
   "outputs": [
    {
     "data": {
      "image/png": "[encoded data removed]",
      "text/plain": [
       "<Figure size 432x288 with 1 Axes>"
      ]
     },
     "metadata": {
      "needs_background": "light"
     },
     "output_type": "display_data"
    }
   ],
   "source": [
    "plt.scatter(time_pyclic_size[:,0] ** 2, time_pyclic_size[:,1])\n",
    "plt.scatter(time_prototype_size[:,0] ** 2, time_prototype_size[:,1])\n",
    "\n",
    "plt.legend([\"pyclic\", \"prototype\"])\n",
    "plt.xlabel(\"Image size in pixels\")\n",
    "plt.ylabel(\"Compute time in s\")\n",
    "plt.show()"
   ]
  }
 ],
 "metadata": {
  "kernelspec": {
   "display_name": "Python (opencl)",
   "language": "python",
   "name": "opencl"
  },
  "language_info": {
   "codemirror_mode": {
    "name": "ipython",
    "version": 3
   },
   "file_extension": ".py",
   "mimetype": "text/x-python",
   "name": "python",
   "nbconvert_exporter": "python",
   "pygments_lexer": "ipython3",
   "version": "3.9.12"
  }
 },
 "nbformat": 4,
 "nbformat_minor": 4
}
