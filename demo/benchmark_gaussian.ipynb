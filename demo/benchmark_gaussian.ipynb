{
 "cells": [
  {
   "cell_type": "code",
   "execution_count": 1,
   "metadata": {},
   "outputs": [],
   "source": [
    "import timeit\n",
    "import numpy as np\n",
    "from functools import partial\n",
    "import matplotlib.pyplot as plt\n",
    "\n",
    "from skimage.filters import gaussian\n",
    "import pyclesperanto_prototype as clesp_p\n",
    "from pyclesperanto import Clesperanto\n",
    "\n",
    "pyclic = Clesperanto()\n",
    "pyclic.set_wait_for_kernel_to_finish()\n",
    "\n",
    "clesp_p.select_device()\n",
    "clesp_p.set_wait_for_kernel_finish()"
   ]
  },
  {
   "cell_type": "code",
   "execution_count": 2,
   "metadata": {},
   "outputs": [],
   "source": [
    "def benchmark_clesp_p_size(target_function, sigma):\n",
    "    \"\"\"\n",
    "    Tests a function on a couple of image sizes and returns times taken for processing.\n",
    "    \"\"\"\n",
    "    sizes = np.arange(1, 100) * 10\n",
    "    benchmark_data = []\n",
    "\n",
    "    for size in sizes:\n",
    "        # make new data\n",
    "        image = np.zeros((size, size))\n",
    "        gpu_image = clesp_p.push(image)\n",
    "        gpu_result = clesp_p.create(image.shape)\n",
    "        # bind target function to given image\n",
    "        partial_function = partial(target_function, gpu_image, gpu_result, sigma)\n",
    "        # warmup       \n",
    "        warm_up_time_in_s = timeit.timeit(partial_function, number=10)\n",
    "        # measure execution time\n",
    "        time_in_s = timeit.timeit(partial_function, number=20)\n",
    "        # store results\n",
    "        benchmark_data.append([size, time_in_s])\n",
    "\n",
    "    return np.asarray(benchmark_data)\n",
    "\n",
    "def benchmark_pyclic_size(target_function, sigma):\n",
    "    \"\"\"\n",
    "    Tests a function on a couple of image sizes and returns times taken for processing.\n",
    "    \"\"\"\n",
    "    sizes = np.arange(1, 100) * 10\n",
    "    benchmark_data = []\n",
    "\n",
    "    for size in sizes:\n",
    "        # make new data\n",
    "        image = np.zeros((size, size))\n",
    "        gpu_image = pyclic.push(image)\n",
    "        gpu_result = pyclic.create(image.shape)\n",
    "        # bind target function to given image\n",
    "        partial_function = partial(target_function, gpu_image, gpu_result, sigma)\n",
    "        # warmup       \n",
    "        warm_up_time_in_s = timeit.timeit(partial_function, number=10)\n",
    "        # measure execution time\n",
    "        time_in_s = timeit.timeit(partial_function, number=20)\n",
    "        # store results\n",
    "        benchmark_data.append([size, time_in_s])\n",
    "\n",
    "    return np.asarray(benchmark_data)\n",
    "\n",
    "def benchmark_skimage_size(target_function, sigma):\n",
    "    \"\"\"\n",
    "    Tests a function on a couple of image sizes and returns times taken for processing.\n",
    "    \"\"\"\n",
    "    sizes = np.arange(1, 100) * 10\n",
    "    benchmark_data = []\n",
    "\n",
    "    for size in sizes:\n",
    "        # make new data\n",
    "        image = np.zeros((size, size))\n",
    "\n",
    "        # bind target function to given image\n",
    "        partial_function = partial(target_function, image, sigma)\n",
    "        # warmup       \n",
    "        warm_up_time_in_s = timeit.timeit(partial_function, number=10)\n",
    "        # measure execution time\n",
    "        time_in_s = timeit.timeit(partial_function, number=20)\n",
    "        # store results\n",
    "        benchmark_data.append([size, time_in_s])\n",
    "\n",
    "    return np.asarray(benchmark_data)\n",
    "\n",
    "def benchmark_clesp_p_sigma(target_function, size):\n",
    "    \"\"\"\n",
    "    Tests a function on a couple of image sizes and returns times taken for processing.\n",
    "    \"\"\"\n",
    "    sigmas = np.arange(1, 30)\n",
    "    benchmark_data = []\n",
    "    \n",
    "    for sigma in sigmas:\n",
    "        # make new data\n",
    "        image = np.zeros((size, size))\n",
    "        gpu_image = clesp_p.push(image)\n",
    "        gpu_result = clesp_p.create(image.shape)\n",
    "        # bind target function to given image\n",
    "        partial_function = partial(target_function, gpu_image, gpu_result, sigma)\n",
    "        # warmup       \n",
    "        warm_up_time_in_s = timeit.timeit(partial_function, number=10)\n",
    "        # measure execution time\n",
    "        time_in_s = timeit.timeit(partial_function, number=20)\n",
    "        # store results\n",
    "        benchmark_data.append([sigma, time_in_s])\n",
    "\n",
    "    return np.asarray(benchmark_data)\n",
    "\n",
    "def benchmark_pyclic_sigma(target_function, size):\n",
    "    \"\"\"\n",
    "    Tests a function on a couple of image sizes and returns times taken for processing.\n",
    "    \"\"\"\n",
    "    sigmas = np.arange(1, 30)\n",
    "    benchmark_data = []\n",
    "\n",
    "    for sigma in sigmas:\n",
    "        # make new data\n",
    "        image = np.zeros((size, size))\n",
    "        gpu_image = pyclic.push(image)\n",
    "        gpu_result = pyclic.create(image.shape)\n",
    "        # bind target function to given image\n",
    "        partial_function = partial(target_function, gpu_image, gpu_result, sigma)\n",
    "        # warmup       \n",
    "        warm_up_time_in_s = timeit.timeit(partial_function, number=10)\n",
    "        # measure execution time\n",
    "        time_in_s = timeit.timeit(partial_function, number=20)\n",
    "        # store results\n",
    "        benchmark_data.append([sigma, time_in_s])\n",
    "\n",
    "    return np.asarray(benchmark_data)\n",
    "\n",
    "def benchmark_skimage_sigma(target_function, size):\n",
    "    \"\"\"\n",
    "    Tests a function on a couple of image sizes and returns times taken for processing.\n",
    "    \"\"\"\n",
    "    sigmas = np.arange(1, 30)\n",
    "    benchmark_data = []\n",
    "\n",
    "    for sigma in sigmas:\n",
    "        # make new data\n",
    "        image = np.zeros((size, size))\n",
    "\n",
    "        # bind target function to given image\n",
    "        partial_function = partial(target_function, image, sigma)\n",
    "        # warmup       \n",
    "        warm_up_time_in_s = timeit.timeit(partial_function, number=10)\n",
    "        # measure execution time\n",
    "        time_in_s = timeit.timeit(partial_function, number=20)\n",
    "        # store results\n",
    "        benchmark_data.append([sigma, time_in_s])\n",
    "\n",
    "    return np.asarray(benchmark_data)"
   ]
  },
  {
   "cell_type": "markdown",
   "metadata": {},
   "source": [
    "## Benchmark : gaussian blur"
   ]
  },
  {
   "cell_type": "code",
   "execution_count": 3,
   "metadata": {},
   "outputs": [],
   "source": [
    "def pyclic_gaussian_blur(gpu_image, gpu_result, sigma):\n",
    "    pyclic.gaussian_blur(input_image=gpu_image, output_image=gpu_result, sigma_x=sigma, sigma_y=sigma, sigma_z=sigma)\n",
    "\n",
    "def clesp_p_gaussian_blur(gpu_image, gpu_result, sigma):\n",
    "    clesp_p.gaussian_blur(source=gpu_image, destination=gpu_result, sigma_x=sigma, sigma_y=sigma, sigma_z=sigma)\n",
    "    \n",
    "def skimage_gaussian_blur(image, sigma):\n",
    "    gaussian(image, sigma)"
   ]
  },
  {
   "cell_type": "code",
   "execution_count": 4,
   "metadata": {},
   "outputs": [],
   "source": [
    "sigma=10\n",
    "time_pyclic_size = benchmark_pyclic_size(pyclic_gaussian_blur, sigma)\n",
    "time_clesp_p_size = benchmark_clesp_p_size(clesp_p_gaussian_blur, sigma)\n",
    "time_skimage_size = benchmark_skimage_size(skimage_gaussian_blur, sigma)"
   ]
  },
  {
   "cell_type": "code",
   "execution_count": 5,
   "metadata": {},
   "outputs": [],
   "source": [
    "size=256\n",
    "time_pyclic_sigma = benchmark_pyclic_sigma(pyclic_gaussian_blur, size)\n",
    "time_clesp_p_sigma = benchmark_clesp_p_sigma(clesp_p_gaussian_blur, size)\n",
    "time_skimage_sigma = benchmark_skimage_sigma(skimage_gaussian_blur, size)"
   ]
  },
  {
   "cell_type": "code",
   "execution_count": 6,
   "metadata": {},
   "outputs": [
    {
     "data": {
      "image/png": "[encoded data removed]",
      "text/plain": [
       "<Figure size 432x288 with 1 Axes>"
      ]
     },
     "metadata": {
      "needs_background": "light"
     },
     "output_type": "display_data"
    }
   ],
   "source": [
    "plt.scatter(time_pyclic_size[:,0] ** 2, time_pyclic_size[:,1])\n",
    "plt.scatter(time_clesp_p_size[:,0] ** 2, time_clesp_p_size[:,1])\n",
    "plt.scatter(time_skimage_size[:,0] ** 2, time_skimage_size[:,1])\n",
    "\n",
    "plt.legend([\"pyclic\", \"clesp-prototype\", \"skimage\"])\n",
    "plt.xlabel(\"Image size in pixels\")\n",
    "plt.ylabel(\"Compute time in s\")\n",
    "plt.title(\"for sigma=10\")\n",
    "plt.show()"
   ]
  },
  {
   "cell_type": "code",
   "execution_count": 7,
   "metadata": {},
   "outputs": [
    {
     "data": {
      "image/png": "[encoded data removed]",
      "text/plain": [
       "<Figure size 432x288 with 1 Axes>"
      ]
     },
     "metadata": {
      "needs_background": "light"
     },
     "output_type": "display_data"
    }
   ],
   "source": [
    "plt.scatter(time_pyclic_sigma[:,0], time_pyclic_sigma[:,1])\n",
    "plt.scatter(time_clesp_p_sigma[:,0], time_clesp_p_sigma[:,1])\n",
    "plt.scatter(time_skimage_sigma[:,0], time_skimage_sigma[:,1])\n",
    "\n",
    "plt.legend([\"pyclic\", \"clesp-prototype\", \"skimage\"])\n",
    "plt.xlabel(\"sigmas\")\n",
    "plt.ylabel(\"Compute time in s\")\n",
    "plt.title(\"for size=256x256\")\n",
    "plt.show()"
   ]
  }
 ],
 "metadata": {
  "kernelspec": {
   "display_name": "Python (opencl)",
   "language": "python",
   "name": "opencl"
  },
  "language_info": {
   "codemirror_mode": {
    "name": "ipython",
    "version": 3
   },
   "file_extension": ".py",
   "mimetype": "text/x-python",
   "name": "python",
   "nbconvert_exporter": "python",
   "pygments_lexer": "ipython3",
   "version": "3.9.12"
  }
 },
 "nbformat": 4,
 "nbformat_minor": 4
}
