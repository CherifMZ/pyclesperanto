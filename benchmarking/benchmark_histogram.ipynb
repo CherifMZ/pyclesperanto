{
 "cells": [
  {
   "cell_type": "code",
   "execution_count": 1,
   "metadata": {},
   "outputs": [],
   "source": [
    "import timeit\n",
    "import numpy as np\n",
    "from functools import partial\n",
    "import matplotlib.pyplot as plt\n",
    "\n",
    "from skimage.exposure import histogram\n",
    "import pyclesperanto_prototype as prototype\n",
    "from pyclesperanto import cle\n",
    "\n",
    "cle.set_wait_for_kernel_to_finish(True)\n",
    "\n",
    "prototype.select_device()\n",
    "prototype.set_wait_for_kernel_finish(True)\n",
    "\n",
    "sizes = [128, 256, 512, 1024, 2048, 4096, 8192]\n",
    "\n",
    "warmup_iter = 3\n",
    "eval_iter = 5"
   ]
  },
  {
   "cell_type": "code",
   "execution_count": 2,
   "metadata": {},
   "outputs": [],
   "source": [
    "def benchmark_function(target_function):\n",
    "    \"\"\"\n",
    "    Tests a function on a couple of image sizes and returns times taken for processing.\n",
    "    \"\"\"\n",
    "    benchmark_data = []\n",
    "    for size in sizes:\n",
    "        # make new data\n",
    "        image = np.random.rand(size, size)\n",
    "        # bind target function to given image\n",
    "        partial_function = partial(target_function, image)\n",
    "        # warmup       \n",
    "        warm_up_time_in_s = timeit.timeit(partial_function, number=warmup_iter)\n",
    "        # measure execution time\n",
    "        time_in_s = timeit.timeit(partial_function, number=eval_iter)\n",
    "        # store results\n",
    "        benchmark_data.append([size, time_in_s])\n",
    "    return np.asarray(benchmark_data)"
   ]
  },
  {
   "cell_type": "markdown",
   "metadata": {},
   "source": [
    "# Histogram"
   ]
  },
  {
   "cell_type": "markdown",
   "metadata": {},
   "source": [
    "### Pyclesperanto"
   ]
  },
  {
   "cell_type": "code",
   "execution_count": 3,
   "metadata": {},
   "outputs": [],
   "source": [
    "def pyclic_function(image):\n",
    "    cle.histogram(input_image=image)"
   ]
  },
  {
   "cell_type": "code",
   "execution_count": 4,
   "metadata": {},
   "outputs": [],
   "source": [
    "pyclic_benchmark_data = benchmark_function(pyclic_function)"
   ]
  },
  {
   "cell_type": "markdown",
   "metadata": {},
   "source": [
    "### Prototype"
   ]
  },
  {
   "cell_type": "code",
   "execution_count": 5,
   "metadata": {},
   "outputs": [],
   "source": [
    "def prototype_function(image):\n",
    "    prototype.histogram(source=image)\n",
    "    "
   ]
  },
  {
   "cell_type": "code",
   "execution_count": 6,
   "metadata": {},
   "outputs": [],
   "source": [
    "prototype_benchmark_data = benchmark_function(prototype_function)"
   ]
  },
  {
   "cell_type": "markdown",
   "metadata": {},
   "source": [
    "### Skimage"
   ]
  },
  {
   "cell_type": "code",
   "execution_count": 7,
   "metadata": {},
   "outputs": [],
   "source": [
    "def skimage_function(image):\n",
    "    h, bc = histogram(image)"
   ]
  },
  {
   "cell_type": "code",
   "execution_count": 8,
   "metadata": {},
   "outputs": [],
   "source": [
    "skimage_benchmark_data = benchmark_function(skimage_function)"
   ]
  },
  {
   "cell_type": "markdown",
   "metadata": {},
   "source": [
    "# Results"
   ]
  },
  {
   "cell_type": "code",
   "execution_count": 9,
   "metadata": {},
   "outputs": [
    {
     "data": {
      "image/png": "[encoded data removed]",
      "text/plain": [
       "<Figure size 432x288 with 1 Axes>"
      ]
     },
     "metadata": {
      "needs_background": "light"
     },
     "output_type": "display_data"
    }
   ],
   "source": [
    "plt.scatter(pyclic_benchmark_data[:,0] ** 2, pyclic_benchmark_data[:,1])\n",
    "plt.scatter(prototype_benchmark_data[:,0] ** 2, prototype_benchmark_data[:,1])\n",
    "plt.scatter(skimage_benchmark_data[:,0] ** 2, skimage_benchmark_data[:,1])\n",
    "\n",
    "plt.legend([\"pyclic\", \"prototype\", \"skimage\"])\n",
    "plt.xlabel(\"Image size in pixels\")\n",
    "plt.ylabel(\"Compute time in s\")\n",
    "plt.show()"
   ]
  }
 ],
 "metadata": {
  "kernelspec": {
   "display_name": "Python (opencl)",
   "language": "python",
   "name": "opencl"
  },
  "language_info": {
   "codemirror_mode": {
    "name": "ipython",
    "version": 3
   },
   "file_extension": ".py",
   "mimetype": "text/x-python",
   "name": "python",
   "nbconvert_exporter": "python",
   "pygments_lexer": "ipython3",
   "version": "3.9.12"
  }
 },
 "nbformat": 4,
 "nbformat_minor": 4
}
