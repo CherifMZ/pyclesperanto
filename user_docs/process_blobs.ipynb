{
 "cells": [
  {
   "cell_type": "code",
   "execution_count": 1,
   "id": "62615a85-7085-4ac2-8e91-257dcfd517e9",
   "metadata": {},
   "outputs": [
    {
     "name": "stdout",
     "output_type": "stream",
     "text": [
      "Hello Robert :)\n"
     ]
    },
    {
     "data": {
      "text/plain": [
       "'NVIDIA GeForce GTX 1050 Ti'"
      ]
     },
     "execution_count": 1,
     "metadata": {},
     "output_type": "execute_result"
    }
   ],
   "source": [
    "from skimage.io import imread\n",
    "\n",
    "from pyclesperanto import cle\n",
    "\n",
    "cle.select_device()"
   ]
  },
  {
   "cell_type": "code",
   "execution_count": null,
   "id": "3f8349d7-6848-45be-bef2-8c960fa8fcd3",
   "metadata": {},
   "outputs": [],
   "source": [
    "image = imread(\"../demo/blobs.tif\")\n",
    "\n",
    "cle.imshow(image)"
   ]
  },
  {
   "cell_type": "code",
   "execution_count": null,
   "id": "10d1aef7-9165-4629-8ea0-0a52be4c2f4e",
   "metadata": {},
   "outputs": [],
   "source": [
    "blurred_image = cle.gaussian_blur(image, sigma_x=3, sigma_y=3)\n",
    "\n",
    "cle.imshow(cle.pull(blurred_image))"
   ]
  },
  {
   "cell_type": "code",
   "execution_count": null,
   "id": "b21df6f0-419c-42f5-aad7-c3e9d414f8b9",
   "metadata": {},
   "outputs": [],
   "source": [
    "binary_image = cle.threshold_otsu(blurred_image)\n",
    "label_image = cle.connected_components_labeling_box(binary_image)"
   ]
  },
  {
   "cell_type": "code",
   "execution_count": null,
   "id": "8a14deaf-d050-47b6-9dda-038f0ab7957c",
   "metadata": {},
   "outputs": [],
   "source": [
    "cle.imshow(label_image, labels=True)"
   ]
  },
  {
   "cell_type": "code",
   "execution_count": null,
   "id": "cc82017d-9993-47c4-87c8-ce35b3cc10cf",
   "metadata": {},
   "outputs": [],
   "source": [
    "from skimage.measure import regionprops_table\n",
    "import pandas as pd\n",
    "\n",
    "table = regionprops_table(image, cle.pull(label_image), properties=['label', 'area', 'mean_intensity'])\n",
    "pd.DataFrame(table)"
   ]
  },
  {
   "cell_type": "code",
   "execution_count": null,
   "id": "c5bc60d4-484d-4ed8-a0ef-027aa411544b",
   "metadata": {},
   "outputs": [],
   "source": []
  }
 ],
 "metadata": {
  "kernelspec": {
   "display_name": "Python 3 (ipykernel)",
   "language": "python",
   "name": "python3"
  },
  "language_info": {
   "codemirror_mode": {
    "name": "ipython",
    "version": 3
   },
   "file_extension": ".py",
   "mimetype": "text/x-python",
   "name": "python",
   "nbconvert_exporter": "python",
   "pygments_lexer": "ipython3",
   "version": "3.9.12"
  }
 },
 "nbformat": 4,
 "nbformat_minor": 5
}
