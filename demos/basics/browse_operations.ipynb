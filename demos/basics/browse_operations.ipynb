{
 "cells": [
  {
   "cell_type": "code",
   "execution_count": 1,
   "id": "0e59ba95-eb9f-4868-8def-f1679a84549e",
   "metadata": {},
   "outputs": [
    {
     "data": {
      "text/plain": [
       "(OpenCL) NVIDIA GeForce RTX 2080 SUPER (OpenCL 3.0 CUDA)\n",
       "\tType: GPU\n",
       "\tCompute Units: 48\n",
       "\tGlobal Memory Size: 8366 MB\n",
       "\tMaximum Object Size: 2091 MB"
      ]
     },
     "execution_count": 1,
     "metadata": {},
     "output_type": "execute_result"
    }
   ],
   "source": [
    "import pyclesperanto as cle\n",
    "\n",
    "cle.get_device()"
   ]
  },
  {
   "cell_type": "markdown",
   "id": "77acb533-9480-4a48-a871-b71fd74b9d60",
   "metadata": {},
   "source": [
    "Pyclesperanto is organised by Tiers, the method `list_function()` will provide you with all the operation accessible from `cle.` organised per tiers.\n",
    "Lower tiers are basices operations, while higher tiers will be more advance."
   ]
  },
  {
   "cell_type": "code",
   "execution_count": 6,
   "id": "abdeb48a-1751-44a9-aba5-9250e159ab71",
   "metadata": {},
   "outputs": [],
   "source": [
    "list_func = [i for i in dir(cle) if not i.startswith(\"_\")]"
   ]
  },
  {
   "cell_type": "code",
   "execution_count": 8,
   "id": "9447a1d4-4f87-4377-92c3-34fa6cd6a78c",
   "metadata": {},
   "outputs": [
    {
     "data": {
      "text/plain": [
       "161"
      ]
     },
     "execution_count": 8,
     "metadata": {},
     "output_type": "execute_result"
    }
   ],
   "source": [
    "len(list_func)"
   ]
  },
  {
   "cell_type": "code",
   "execution_count": null,
   "id": "ae64c46c-8fca-4f88-aab3-72b92a877664",
   "metadata": {},
   "outputs": [],
   "source": []
  }
 ],
 "metadata": {
  "kernelspec": {
   "display_name": "Python 3 (ipykernel)",
   "language": "python",
   "name": "python3"
  },
  "language_info": {
   "codemirror_mode": {
    "name": "ipython",
    "version": 3
   },
   "file_extension": ".py",
   "mimetype": "text/x-python",
   "name": "python",
   "nbconvert_exporter": "python",
   "pygments_lexer": "ipython3",
   "version": "3.8.17"
  }
 },
 "nbformat": 4,
 "nbformat_minor": 5
}
