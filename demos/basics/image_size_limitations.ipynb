{
 "cells": [
  {
   "cell_type": "markdown",
   "id": "0e033336",
   "metadata": {},
   "source": [
    "# Image size limitations\n",
    "Graphics processing units (GPUs) use memory which limits image size. E.g. on common GPUs, an image can have about a quarter of the size of available memory in the GPU. However, depending on what pixel data type we use, the limit can also be lower."
   ]
  },
  {
   "cell_type": "code",
   "execution_count": 1,
   "id": "ce83a7a8",
   "metadata": {},
   "outputs": [
    {
     "data": {
      "text/plain": [
       "(OpenCL) NVIDIA GeForce RTX 2080 SUPER (OpenCL 3.0 CUDA)\n",
       "\tType: GPU\n",
       "\tCompute Units: 48\n",
       "\tGlobal Memory Size: 8366 MB\n",
       "\tMaximum Object Size: 2091 MB"
      ]
     },
     "execution_count": 1,
     "metadata": {},
     "output_type": "execute_result"
    }
   ],
   "source": [
    "import pyclesperanto as cle\n",
    "\n",
    "cle.get_device()"
   ]
  },
  {
   "cell_type": "markdown",
   "id": "b277379c",
   "metadata": {},
   "source": [
    "Pixels in memory need to be addressable. If you want to access pixel 5, the computer must be able to locate where this pixel is stored. Pixel adresses are stored in the data type 32-bit integer. This means 2^32 adresses are available. If an image is of type 8-bit, that means every pixel consists of 8-bit, which means 1 byte. As the image can have 2^32 pixels, the image size of an 8-bit is limited to 2^32 bytes. These are..."
   ]
  },
  {
   "cell_type": "code",
   "execution_count": 2,
   "id": "ae28f7a5",
   "metadata": {},
   "outputs": [
    {
     "data": {
      "text/plain": [
       "4294967296"
      ]
     },
     "execution_count": 2,
     "metadata": {},
     "output_type": "execute_result"
    }
   ],
   "source": [
    "number_of_bytes = 2**32\n",
    "number_of_bytes"
   ]
  },
  {
   "cell_type": "code",
   "execution_count": 3,
   "id": "58a07efe",
   "metadata": {},
   "outputs": [
    {
     "data": {
      "text/plain": [
       "4194304.0"
      ]
     },
     "execution_count": 3,
     "metadata": {},
     "output_type": "execute_result"
    }
   ],
   "source": [
    "number_of_kilobytes = number_of_bytes / 1024\n",
    "number_of_kilobytes"
   ]
  },
  {
   "cell_type": "code",
   "execution_count": 4,
   "id": "54e79efd",
   "metadata": {},
   "outputs": [
    {
     "data": {
      "text/plain": [
       "4096.0"
      ]
     },
     "execution_count": 4,
     "metadata": {},
     "output_type": "execute_result"
    }
   ],
   "source": [
    "number_of_megabytes = number_of_kilobytes / 1024\n",
    "number_of_megabytes"
   ]
  },
  {
   "cell_type": "code",
   "execution_count": 5,
   "id": "23371c61",
   "metadata": {},
   "outputs": [
    {
     "data": {
      "text/plain": [
       "4.0"
      ]
     },
     "execution_count": 5,
     "metadata": {},
     "output_type": "execute_result"
    }
   ],
   "source": [
    "number_of_gigabytes = number_of_megabytes / 1024\n",
    "number_of_gigabytes"
   ]
  },
  {
   "cell_type": "markdown",
   "id": "d53f22a8",
   "metadata": {},
   "source": [
    "... Giga-Bytes."
   ]
  },
  {
   "cell_type": "markdown",
   "id": "e5d90410",
   "metadata": {},
   "source": [
    "This notebook is executed on a computer that has technically 32 GB of GPU memory. Hence, it should be possible to allocate multiple images of that size:"
   ]
  },
  {
   "cell_type": "code",
   "execution_count": 6,
   "id": "5dd589bd",
   "metadata": {},
   "outputs": [],
   "source": [
    "image = cle.create((1024, 1024, 4 * 1024))"
   ]
  },
  {
   "cell_type": "markdown",
   "id": "95fd6de1",
   "metadata": {},
   "source": [
    "... and apply an operations to it:"
   ]
  },
  {
   "cell_type": "code",
   "execution_count": 7,
   "id": "8b75d7a2",
   "metadata": {},
   "outputs": [
    {
     "ename": "AttributeError",
     "evalue": "module 'pyclesperanto' has no attribute 'set_ramp_x'",
     "output_type": "error",
     "traceback": [
      "\u001b[0;31m---------------------------------------------------------------------------\u001b[0m",
      "\u001b[0;31mAttributeError\u001b[0m                            Traceback (most recent call last)",
      "Cell \u001b[0;32mIn[7], line 1\u001b[0m\n\u001b[0;32m----> 1\u001b[0m result \u001b[38;5;241m=\u001b[39m \u001b[43mcle\u001b[49m\u001b[38;5;241;43m.\u001b[39;49m\u001b[43mset_ramp_x\u001b[49m(image)\n\u001b[1;32m      2\u001b[0m result\u001b[38;5;241m.\u001b[39mshape\n",
      "\u001b[0;31mAttributeError\u001b[0m: module 'pyclesperanto' has no attribute 'set_ramp_x'"
     ]
    }
   ],
   "source": [
    "result = cle.set_ramp_x(image)\n",
    "result.shape"
   ]
  },
  {
   "cell_type": "code",
   "execution_count": 8,
   "id": "1024f696",
   "metadata": {},
   "outputs": [
    {
     "ename": "NameError",
     "evalue": "name 'result' is not defined",
     "output_type": "error",
     "traceback": [
      "\u001b[0;31m---------------------------------------------------------------------------\u001b[0m",
      "\u001b[0;31mNameError\u001b[0m                                 Traceback (most recent call last)",
      "Cell \u001b[0;32mIn[8], line 1\u001b[0m\n\u001b[0;32m----> 1\u001b[0m cle\u001b[38;5;241m.\u001b[39mimshow(\u001b[43mresult\u001b[49m)\n",
      "\u001b[0;31mNameError\u001b[0m: name 'result' is not defined"
     ]
    }
   ],
   "source": [
    "cle.imshow(result)"
   ]
  },
  {
   "cell_type": "code",
   "execution_count": 9,
   "id": "fad9c3be",
   "metadata": {},
   "outputs": [
    {
     "ename": "AttributeError",
     "evalue": "module 'pyclesperanto' has no attribute 'cl_info'",
     "output_type": "error",
     "traceback": [
      "\u001b[0;31m---------------------------------------------------------------------------\u001b[0m",
      "\u001b[0;31mAttributeError\u001b[0m                            Traceback (most recent call last)",
      "Cell \u001b[0;32mIn[9], line 1\u001b[0m\n\u001b[0;32m----> 1\u001b[0m \u001b[38;5;28mprint\u001b[39m(\u001b[43mcle\u001b[49m\u001b[38;5;241;43m.\u001b[39;49m\u001b[43mcl_info\u001b[49m())\n",
      "\u001b[0;31mAttributeError\u001b[0m: module 'pyclesperanto' has no attribute 'cl_info'"
     ]
    }
   ],
   "source": [
    "print(cle.cl_info())"
   ]
  },
  {
   "cell_type": "code",
   "execution_count": null,
   "id": "01fd3db9",
   "metadata": {},
   "outputs": [],
   "source": []
  }
 ],
 "metadata": {
  "kernelspec": {
   "display_name": "Python 3 (ipykernel)",
   "language": "python",
   "name": "python3"
  },
  "language_info": {
   "codemirror_mode": {
    "name": "ipython",
    "version": 3
   },
   "file_extension": ".py",
   "mimetype": "text/x-python",
   "name": "python",
   "nbconvert_exporter": "python",
   "pygments_lexer": "ipython3",
   "version": "3.8.17"
  }
 },
 "nbformat": 4,
 "nbformat_minor": 5
}
