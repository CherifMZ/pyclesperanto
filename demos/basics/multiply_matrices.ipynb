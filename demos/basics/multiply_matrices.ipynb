{
 "cells": [
  {
   "cell_type": "markdown",
   "metadata": {},
   "source": [
    "# Matrix Multiplication\n",
    "\n",
    "This notebook has been translated from [ImageJ Macro](https://clij.github.io/clij2-docs/md/matrix_multiply/)\n",
    "\n",
    "It shows how to perform a matrix multiplication in the GPU.\n",
    "\n",
    "## Initialize GPU"
   ]
  },
  {
   "cell_type": "code",
   "execution_count": 1,
   "metadata": {},
   "outputs": [
    {
     "data": {
      "text/plain": [
       "(OpenCL) NVIDIA GeForce RTX 2080 SUPER (OpenCL 3.0 CUDA)\n",
       "\tType: GPU\n",
       "\tCompute Units: 48\n",
       "\tGlobal Memory Size: 8366 MB\n",
       "\tMaximum Object Size: 2091 MB"
      ]
     },
     "execution_count": 1,
     "metadata": {},
     "output_type": "execute_result"
    }
   ],
   "source": [
    "import pyclesperanto as cle\n",
    "\n",
    "from skimage.io import imread, imsave, imshow\n",
    "import matplotlib\n",
    "import numpy as np\n",
    "\n",
    "# initialize GPU\n",
    "cle.select_device(\"TX\")"
   ]
  },
  {
   "cell_type": "markdown",
   "metadata": {},
   "source": [
    "## Define two arrays (vectors) and push them to the GPU"
   ]
  },
  {
   "cell_type": "code",
   "execution_count": 3,
   "metadata": {},
   "outputs": [],
   "source": [
    "array1 = np.asarray([1, 2, 3, 4, 5])\n",
    "array2 = np.asarray([6, 7, 8, 9, 10])\n",
    "\n",
    "vector1 = cle.push(array1)\n",
    "vector2 = cle.push(array2)"
   ]
  },
  {
   "cell_type": "markdown",
   "metadata": {},
   "source": [
    "## In order to multiplicate matrices, the input matrices must be of size (n * m) and (m * n)\n",
    "Therefore, we transpose one of our vectors:"
   ]
  },
  {
   "cell_type": "code",
   "execution_count": 4,
   "metadata": {},
   "outputs": [
    {
     "name": "stderr",
     "output_type": "stream",
     "text": [
      "Build log: <kernel>:36:26: warning: unknown OpenCL extension 'cl_amd_printf' - ignoring\n",
      "#pragma OPENCL EXTENSION cl_amd_printf : enable\n",
      "                         ^\n",
      "<kernel>:808:16: warning: implicit conversion from 'long long' to 'uint' (aka 'unsigned int') changes value from 18446744073709551615 to 4294967295\n",
      "        return 18446744073709551615;\n",
      "        ~~~~~~ ^~~~~~~~~~~~~~~~~~~~\n",
      "<kernel>:818:16: warning: implicit conversion from 'long' to 'int' changes value from 9223372036854775807 to -1\n",
      "        return 9223372036854775807;\n",
      "        ~~~~~~ ^~~~~~~~~~~~~~~~~~~\n",
      "<kernel>:821:16: warning: implicit conversion from 'long long' to 'int' changes value from -9223372036854775808 to 0\n",
      "        return -9223372036854775808 ;\n",
      "        ~~~~~~ ^~~~~~~~~~~~~~~~~~~~\n",
      "<kernel>:845:18: warning: incompatible integer to pointer conversion initializing '__global long *__attribute__((address_space(16776963)))' with an expression of type 'long'\n",
      "  IMAGE_src_TYPE value = READ_IMAGE(src, sampler, POS_src_INSTANCE(y,x,z,0)).x;\n",
      "                 ^       ~~~~~~~~~~~~~~~~~~~~~~~~~~~~~~~~~~~~~~~~~~~~~~~~~~~~~\n",
      "<kernel>:846:70: error: passing '__global long *__attribute__((address_space(16776963)))' to parameter of incompatible type 'float'\n",
      "  WRITE_IMAGE(dst, POS_dst_INSTANCE(x,y,z,0), CONVERT_dst_PIXEL_TYPE(value));\n",
      "                                                                     ^~~~~\n",
      "<kernel>:831:54: note: expanded from macro 'WRITE_IMAGE'\n",
      "#define WRITE_IMAGE(a,b,c) WRITE_ ## a ## _IMAGE(a,b,c)\n",
      "                                                     ^\n",
      "<kernel>:28:110: note: expanded from macro 'WRITE_dst_IMAGE'\n",
      "#define WRITE_dst_IMAGE(a,b,c) write_buffer2dl(GET_IMAGE_WIDTH(a),GET_IMAGE_HEIGHT(a),GET_IMAGE_DEPTH(a),a,b,c)\n",
      "                                                                                                             ^\n",
      "<kernel>:816:40: note: passing argument to parameter 'value' here\n",
      "inline int clij_convert_long_sat(float value) {\n",
      "                                       ^\n",
      "\n"
     ]
    },
    {
     "ename": "RuntimeError",
     "evalue": "Error: Failed to execute the kernel. \n\t > Error (ocl): Failed to build kernel. \n\t > Error (ocl): Failed to build program with error code 0",
     "output_type": "error",
     "traceback": [
      "\u001b[0;31m---------------------------------------------------------------------------\u001b[0m",
      "\u001b[0;31mRuntimeError\u001b[0m                              Traceback (most recent call last)",
      "Cell \u001b[0;32mIn[4], line 1\u001b[0m\n\u001b[0;32m----> 1\u001b[0m vector1_t \u001b[38;5;241m=\u001b[39m \u001b[43mcle\u001b[49m\u001b[38;5;241;43m.\u001b[39;49m\u001b[43mtranspose_xy\u001b[49m\u001b[43m(\u001b[49m\u001b[43mvector1\u001b[49m\u001b[43m)\u001b[49m\n\u001b[1;32m      3\u001b[0m \u001b[38;5;28mprint\u001b[39m(\u001b[38;5;124m\"\u001b[39m\u001b[38;5;124mVector 1 (transposed): \u001b[39m\u001b[38;5;124m\"\u001b[39m \u001b[38;5;241m+\u001b[39m \u001b[38;5;28mstr\u001b[39m(vector1_t))\n\u001b[1;32m      4\u001b[0m \u001b[38;5;28mprint\u001b[39m(\u001b[38;5;124m\"\u001b[39m\u001b[38;5;124mVector 2: \u001b[39m\u001b[38;5;124m\"\u001b[39m \u001b[38;5;241m+\u001b[39m \u001b[38;5;28mstr\u001b[39m(vector2))\n",
      "File \u001b[0;32m~/Libraries/miniconda3/envs/skbuild38/lib/python3.8/site-packages/pyclesperanto/_decorators.py:85\u001b[0m, in \u001b[0;36mplugin_function.<locals>.worker_function\u001b[0;34m(*args, **kwargs)\u001b[0m\n\u001b[1;32m     82\u001b[0m         bound\u001b[38;5;241m.\u001b[39marguments[key] \u001b[38;5;241m=\u001b[39m input_image\u001b[38;5;241m.\u001b[39mdevice\n\u001b[1;32m     84\u001b[0m \u001b[38;5;66;03m# call the decorated function\u001b[39;00m\n\u001b[0;32m---> 85\u001b[0m result \u001b[38;5;241m=\u001b[39m \u001b[43mfunction\u001b[49m\u001b[43m(\u001b[49m\u001b[38;5;241;43m*\u001b[39;49m\u001b[43mbound\u001b[49m\u001b[38;5;241;43m.\u001b[39;49m\u001b[43margs\u001b[49m\u001b[43m,\u001b[49m\u001b[43m \u001b[49m\u001b[38;5;241;43m*\u001b[39;49m\u001b[38;5;241;43m*\u001b[39;49m\u001b[43mbound\u001b[49m\u001b[38;5;241;43m.\u001b[39;49m\u001b[43mkwargs\u001b[49m\u001b[43m)\u001b[49m\n\u001b[1;32m     87\u001b[0m \u001b[38;5;66;03m# # Cast the result as an Array if it is not already\u001b[39;00m\n\u001b[1;32m     88\u001b[0m \u001b[38;5;66;03m# if not isinstance(result, _Array):\u001b[39;00m\n\u001b[1;32m     89\u001b[0m \u001b[38;5;66;03m#     result = _Array(result)\u001b[39;00m\n\u001b[1;32m     91\u001b[0m \u001b[38;5;28;01mreturn\u001b[39;00m result\n",
      "File \u001b[0;32m~/Libraries/miniconda3/envs/skbuild38/lib/python3.8/site-packages/pyclesperanto/_tier1.py:1661\u001b[0m, in \u001b[0;36mtranspose_xy\u001b[0;34m(input_image, output_image, device)\u001b[0m\n\u001b[1;32m   1653\u001b[0m \u001b[38;5;129m@plugin_function\u001b[39m\n\u001b[1;32m   1654\u001b[0m \u001b[38;5;28;01mdef\u001b[39;00m \u001b[38;5;21mtranspose_xy\u001b[39m(\n\u001b[1;32m   1655\u001b[0m     input_image: Image,\n\u001b[1;32m   1656\u001b[0m \toutput_image: Image \u001b[38;5;241m=\u001b[39m \u001b[38;5;28;01mNone\u001b[39;00m,\n\u001b[1;32m   1657\u001b[0m \tdevice: Device \u001b[38;5;241m=\u001b[39m \u001b[38;5;28;01mNone\u001b[39;00m\n\u001b[1;32m   1658\u001b[0m ) \u001b[38;5;241m-\u001b[39m\u001b[38;5;241m>\u001b[39m Image:\n\u001b[1;32m   1659\u001b[0m     \u001b[38;5;28;01mfrom\u001b[39;00m \u001b[38;5;21;01m.\u001b[39;00m\u001b[38;5;21;01m_pyclesperanto\u001b[39;00m \u001b[38;5;28;01mimport\u001b[39;00m _transpose_xy \u001b[38;5;28;01mas\u001b[39;00m op\n\u001b[0;32m-> 1661\u001b[0m     \u001b[38;5;28;01mreturn\u001b[39;00m \u001b[43mop\u001b[49m\u001b[43m(\u001b[49m\n\u001b[1;32m   1662\u001b[0m \u001b[43m        \u001b[49m\u001b[43mdevice\u001b[49m\u001b[38;5;241;43m=\u001b[39;49m\u001b[43mdevice\u001b[49m\u001b[43m,\u001b[49m\n\u001b[1;32m   1663\u001b[0m \u001b[43m\t\t\u001b[49m\u001b[43msrc\u001b[49m\u001b[38;5;241;43m=\u001b[39;49m\u001b[43minput_image\u001b[49m\u001b[43m,\u001b[49m\n\u001b[1;32m   1664\u001b[0m \u001b[43m\t\t\u001b[49m\u001b[43mdst\u001b[49m\u001b[38;5;241;43m=\u001b[39;49m\u001b[43moutput_image\u001b[49m\n\u001b[1;32m   1665\u001b[0m \u001b[43m    \u001b[49m\u001b[43m)\u001b[49m\n",
      "\u001b[0;31mRuntimeError\u001b[0m: Error: Failed to execute the kernel. \n\t > Error (ocl): Failed to build kernel. \n\t > Error (ocl): Failed to build program with error code 0"
     ]
    }
   ],
   "source": [
    "vector1_t = cle.transpose_xy(vector1)\n",
    "\n",
    "print(\"Vector 1 (transposed): \" + str(vector1_t))\n",
    "print(\"Vector 2: \" + str(vector2))"
   ]
  },
  {
   "cell_type": "code",
   "execution_count": 5,
   "metadata": {},
   "outputs": [
    {
     "ename": "NameError",
     "evalue": "name 'vector1_t' is not defined",
     "output_type": "error",
     "traceback": [
      "\u001b[0;31m---------------------------------------------------------------------------\u001b[0m",
      "\u001b[0;31mNameError\u001b[0m                                 Traceback (most recent call last)",
      "Cell \u001b[0;32mIn[5], line 1\u001b[0m\n\u001b[0;32m----> 1\u001b[0m matrix \u001b[38;5;241m=\u001b[39m cle\u001b[38;5;241m.\u001b[39mcreate([\u001b[43mvector1_t\u001b[49m\u001b[38;5;241m.\u001b[39mshape[\u001b[38;5;241m0\u001b[39m], vector2\u001b[38;5;241m.\u001b[39mshape[\u001b[38;5;241m1\u001b[39m]])\n\u001b[1;32m      2\u001b[0m cle\u001b[38;5;241m.\u001b[39mmultiply_matrix(vector1_t, vector2, matrix)\n\u001b[1;32m      4\u001b[0m \u001b[38;5;28mprint\u001b[39m(matrix)\n",
      "\u001b[0;31mNameError\u001b[0m: name 'vector1_t' is not defined"
     ]
    }
   ],
   "source": [
    "matrix = cle.create([vector1_t.shape[0], vector2.shape[1]])\n",
    "cle.multiply_matrix(vector1_t, vector2, matrix)\n",
    "\n",
    "print(matrix)"
   ]
  },
  {
   "cell_type": "code",
   "execution_count": 6,
   "metadata": {},
   "outputs": [
    {
     "ename": "NameError",
     "evalue": "name 'matrix' is not defined",
     "output_type": "error",
     "traceback": [
      "\u001b[0;31m---------------------------------------------------------------------------\u001b[0m",
      "\u001b[0;31mNameError\u001b[0m                                 Traceback (most recent call last)",
      "Cell \u001b[0;32mIn[6], line 1\u001b[0m\n\u001b[0;32m----> 1\u001b[0m cle\u001b[38;5;241m.\u001b[39mimshow(\u001b[43mmatrix\u001b[49m)\n",
      "\u001b[0;31mNameError\u001b[0m: name 'matrix' is not defined"
     ]
    }
   ],
   "source": [
    "cle.imshow(matrix)"
   ]
  },
  {
   "cell_type": "markdown",
   "metadata": {},
   "source": [
    "## Element by element multiplication of two matrices"
   ]
  },
  {
   "cell_type": "code",
   "execution_count": 7,
   "metadata": {},
   "outputs": [
    {
     "ename": "AttributeError",
     "evalue": "module 'pyclesperanto' has no attribute 'push_zyx'",
     "output_type": "error",
     "traceback": [
      "\u001b[0;31m---------------------------------------------------------------------------\u001b[0m",
      "\u001b[0;31mAttributeError\u001b[0m                            Traceback (most recent call last)",
      "Cell \u001b[0;32mIn[7], line 2\u001b[0m\n\u001b[1;32m      1\u001b[0m \u001b[38;5;66;03m# generate another matrix of the same size with random values\u001b[39;00m\n\u001b[0;32m----> 2\u001b[0m another_matrix \u001b[38;5;241m=\u001b[39m \u001b[43mcle\u001b[49m\u001b[38;5;241;43m.\u001b[39;49m\u001b[43mpush_zyx\u001b[49m(np\u001b[38;5;241m.\u001b[39mrandom\u001b[38;5;241m.\u001b[39mrandom(matrix\u001b[38;5;241m.\u001b[39mshape))\n\u001b[1;32m      4\u001b[0m \u001b[38;5;66;03m# element by element multiplication\u001b[39;00m\n\u001b[1;32m      5\u001b[0m matrix_element_wise_multiplied \u001b[38;5;241m=\u001b[39m cle\u001b[38;5;241m.\u001b[39mmultiply_images(matrix, another_matrix)\n",
      "\u001b[0;31mAttributeError\u001b[0m: module 'pyclesperanto' has no attribute 'push_zyx'"
     ]
    }
   ],
   "source": [
    "# generate another matrix of the same size with random values\n",
    "another_matrix = cle.push_zyx(np.random.random(matrix.shape))\n",
    "\n",
    "# element by element multiplication\n",
    "matrix_element_wise_multiplied = cle.multiply_images(matrix, another_matrix)\n",
    "\n",
    "print(matrix_element_wise_multiplied)\n",
    "\n",
    "cle.imshow(matrix_element_wise_multiplied)"
   ]
  },
  {
   "cell_type": "markdown",
   "metadata": {},
   "source": [
    "## Element by element multiplication of a matrix with a scalar"
   ]
  },
  {
   "cell_type": "code",
   "execution_count": 8,
   "metadata": {},
   "outputs": [
    {
     "ename": "NameError",
     "evalue": "name 'matrix' is not defined",
     "output_type": "error",
     "traceback": [
      "\u001b[0;31m---------------------------------------------------------------------------\u001b[0m",
      "\u001b[0;31mNameError\u001b[0m                                 Traceback (most recent call last)",
      "Cell \u001b[0;32mIn[8], line 1\u001b[0m\n\u001b[0;32m----> 1\u001b[0m elements_times_2 \u001b[38;5;241m=\u001b[39m cle\u001b[38;5;241m.\u001b[39mmultiply_image_and_scalar(\u001b[43mmatrix\u001b[49m, scalar\u001b[38;5;241m=\u001b[39m\u001b[38;5;241m2\u001b[39m)\n\u001b[1;32m      2\u001b[0m \u001b[38;5;28mprint\u001b[39m(elements_times_2)\n",
      "\u001b[0;31mNameError\u001b[0m: name 'matrix' is not defined"
     ]
    }
   ],
   "source": [
    "elements_times_2 = cle.multiply_image_and_scalar(matrix, scalar=2)\n",
    "print(elements_times_2)"
   ]
  },
  {
   "cell_type": "code",
   "execution_count": null,
   "metadata": {},
   "outputs": [],
   "source": []
  }
 ],
 "metadata": {
  "kernelspec": {
   "display_name": "Python 3 (ipykernel)",
   "language": "python",
   "name": "python3"
  },
  "language_info": {
   "codemirror_mode": {
    "name": "ipython",
    "version": 3
   },
   "file_extension": ".py",
   "mimetype": "text/x-python",
   "name": "python",
   "nbconvert_exporter": "python",
   "pygments_lexer": "ipython3",
   "version": "3.8.17"
  }
 },
 "nbformat": 4,
 "nbformat_minor": 4
}
