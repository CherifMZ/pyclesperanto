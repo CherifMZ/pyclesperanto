{
 "cells": [
  {
   "cell_type": "code",
   "execution_count": 1,
   "metadata": {},
   "outputs": [
    {
     "name": "stdout",
     "output_type": "stream",
     "text": [
      "pyclesperanto version: 0.6.6a1\n"
     ]
    }
   ],
   "source": [
    "import timeit\n",
    "import numpy as np\n",
    "import pandas as pd\n",
    "from functools import partial\n",
    "import matplotlib.pyplot as plt\n",
    "\n",
    "from skimage.filters import gaussian, threshold_otsu\n",
    "from skimage.measure import label\n",
    "import pyclesperanto_prototype as proto\n",
    "import pyclesperanto as cle\n",
    "\n",
    "cle.select_device()\n",
    "cle.set_wait_for_kernel_to_finish(True)\n",
    "\n",
    "proto.select_device()\n",
    "proto.set_wait_for_kernel_finish(True)\n",
    "\n",
    "sizes = np.arange(1, 100, 10)\n",
    "\n",
    "warmup_iter = 1\n",
    "eval_iter = 3\n",
    "\n",
    "seed_value = 42"
   ]
  },
  {
   "cell_type": "code",
   "execution_count": 2,
   "metadata": {},
   "outputs": [],
   "source": [
    "def mb_to_bytes(mb:int = 1) -> int:\n",
    "    return mb * 1024 * 1024\n",
    "\n",
    "def shape_from_elements(bytes:int) -> tuple:\n",
    "    elements = bytes / 4\n",
    "    shape = int(np.power(elements, 1/3))\n",
    "    return (shape, shape, shape)\n",
    "\n",
    "def generate_random_blob_image(size:int = 128) -> np.ndarray:\n",
    "    \"\"\"\n",
    "    Generates a random image of given size and sigma.\n",
    "    \"\"\"\n",
    "    shape = shape_from_elements(mb_to_bytes(size))\n",
    "    image = np.zeros(shape, dtype=np.float32)\n",
    "    # generate random blobs in image\n",
    "    nb_blobs = int(shape[0] * shape[1] * shape[2] // 1000)\n",
    "    x = np.random.randint(0, shape[0], nb_blobs)\n",
    "    y = np.random.randint(0, shape[1], nb_blobs)\n",
    "    z = np.random.randint(0, shape[2], nb_blobs)\n",
    "    image[x, y, z] = 1\n",
    "    image = gaussian(image, sigma=10)  \n",
    "\n",
    "    return image\n",
    "\n",
    "def benchmark_function(target_function, operation:str, framework:str) -> pd.DataFrame:\n",
    "    \"\"\"\n",
    "    Tests a function on a couple of image sizes and returns times taken for processing.\n",
    "    \"\"\"\n",
    "    np.random.seed(seed_value)\n",
    "    benchmark_data = []\n",
    "    for size in sizes:\n",
    "        # make new data\n",
    "        image = generate_random_blob_image(size)\n",
    "        size_mb = image.size * image.itemsize / 1024 / 1024\n",
    "        # bind target function to given image\n",
    "        partial_function = partial(target_function, image)\n",
    "        # warmup       \n",
    "        _ = timeit.timeit(partial_function, number=warmup_iter)\n",
    "        # measure execution time\n",
    "        time_in_s = timeit.timeit(partial_function, number=eval_iter)\n",
    "        \n",
    "        print(f\"Processing {image.shape} of {size_mb} Mb with {framework}... {time_in_s} s\")\n",
    "\n",
    "        # store results\n",
    "        benchmark_data.append(pd.DataFrame({\"benchmark\": operation, \"framework\": framework, \"size\": size_mb, \"time\": time_in_s}, index=[0]))\n",
    "    return pd.concat(benchmark_data)"
   ]
  },
  {
   "cell_type": "markdown",
   "metadata": {},
   "source": [
    "# Prototype"
   ]
  },
  {
   "cell_type": "code",
   "execution_count": 3,
   "metadata": {},
   "outputs": [],
   "source": [
    "def prototype_function(image):\n",
    "    blurred = proto.gaussian_blur(source=image, sigma_x=3, sigma_y=3, sigma_z=3)\n",
    "    binary = proto.threshold_otsu(source=blurred)\n",
    "    labeled = proto.connected_components_labeling_box(binary_input=binary)"
   ]
  },
  {
   "cell_type": "code",
   "execution_count": 4,
   "metadata": {},
   "outputs": [
    {
     "name": "stdout",
     "output_type": "stream",
     "text": [
      "Processing (63, 63, 63) of 0.9538536071777344 Mb with prototype... 0.10141716903308406 s\n",
      "Processing (142, 142, 142) of 10.922576904296875 Mb with prototype... 0.31401915597962216 s\n",
      "Processing (176, 176, 176) of 20.796875 Mb with prototype... 0.40069758502068 s\n",
      "Processing (201, 201, 201) of 30.97763442993164 Mb with prototype... 3.194064547016751 s\n",
      "Processing (220, 220, 220) of 40.618896484375 Mb with prototype... 4.302431268966757 s\n"
     ]
    }
   ],
   "source": [
    "benchmark_data_prototype = benchmark_function(prototype_function, \"mini pipeline\", \"prototype\")"
   ]
  },
  {
   "cell_type": "markdown",
   "metadata": {},
   "source": [
    "# Pyclic"
   ]
  },
  {
   "cell_type": "code",
   "execution_count": 5,
   "metadata": {},
   "outputs": [],
   "source": [
    "def pycle_function(image):\n",
    "    blurred = cle.gaussian_blur(input_image=image, sigma_x=3, sigma_y=3, sigma_z=3)\n",
    "    binary = cle.threshold_otsu(input_image=blurred)\n",
    "    labeled = cle.connected_components_labeling_box(input_image=binary)"
   ]
  },
  {
   "cell_type": "code",
   "execution_count": 6,
   "metadata": {},
   "outputs": [
    {
     "name": "stdout",
     "output_type": "stream",
     "text": [
      "Processing (63, 63, 63) of 0.9538536071777344 Mb with pyclesperanto... 0.03006129601271823 s\n",
      "Processing (142, 142, 142) of 10.922576904296875 Mb with pyclesperanto... 0.22240667103324085 s\n",
      "Processing (176, 176, 176) of 20.796875 Mb with pyclesperanto... 0.3046516799950041 s\n",
      "Processing (201, 201, 201) of 30.97763442993164 Mb with pyclesperanto... 0.3554006320191547 s\n",
      "Processing (220, 220, 220) of 40.618896484375 Mb with pyclesperanto... 1.5671955680008978 s\n"
     ]
    }
   ],
   "source": [
    "benchmark_data_pycle = benchmark_function(pycle_function, \"mini pipeline\", \"pyclesperanto\")"
   ]
  },
  {
   "cell_type": "markdown",
   "metadata": {},
   "source": [
    "# Skimage"
   ]
  },
  {
   "cell_type": "code",
   "execution_count": 7,
   "metadata": {},
   "outputs": [],
   "source": [
    "def skimage_function(image):\n",
    "    blurred = gaussian(image, sigma=3)\n",
    "    binary = blurred > threshold_otsu(blurred)\n",
    "    labeled = label(binary)"
   ]
  },
  {
   "cell_type": "code",
   "execution_count": 8,
   "metadata": {},
   "outputs": [
    {
     "name": "stdout",
     "output_type": "stream",
     "text": [
      "Processing (63, 63, 63) of 0.9538536071777344 Mb with scikit-image... 0.038414233014918864 s\n",
      "Processing (142, 142, 142) of 10.922576904296875 Mb with scikit-image... 0.3818136940244585 s\n",
      "Processing (176, 176, 176) of 20.796875 Mb with scikit-image... 0.7399580529890954 s\n",
      "Processing (201, 201, 201) of 30.97763442993164 Mb with scikit-image... 1.2893259210395627 s\n",
      "Processing (220, 220, 220) of 40.618896484375 Mb with scikit-image... 1.6854657820076682 s\n"
     ]
    }
   ],
   "source": [
    "benchmark_data_skimage = benchmark_function(skimage_function, \"mini pipeline\", \"scikit-image\")"
   ]
  },
  {
   "cell_type": "markdown",
   "metadata": {},
   "source": [
    "# Quantification"
   ]
  },
  {
   "cell_type": "code",
   "execution_count": 9,
   "metadata": {},
   "outputs": [
    {
     "data": {
      "image/png": "[encoded data removed]",
      "text/plain": [
       "<Figure size 640x480 with 1 Axes>"
      ]
     },
     "metadata": {},
     "output_type": "display_data"
    }
   ],
   "source": [
    "import seaborn as sns\n",
    "\n",
    "benchmark_data = pd.concat([benchmark_data_prototype, benchmark_data_pycle, benchmark_data_skimage])\n",
    "\n",
    "sns.lineplot(data=benchmark_data, x=\"size\", y=\"time\", hue=\"framework\")\n",
    "plt.title(\"Mini pipeline benchmark\")\n",
    "plt.xlabel(\"Image size in Mb\")\n",
    "plt.ylabel(\"Time in s\")\n",
    "plt.show()"
   ]
  }
 ],
 "metadata": {
  "kernelspec": {
   "display_name": "Python 3.10.4 ('skbuild')",
   "language": "python",
   "name": "python3"
  },
  "language_info": {
   "codemirror_mode": {
    "name": "ipython",
    "version": 3
   },
   "file_extension": ".py",
   "mimetype": "text/x-python",
   "name": "python",
   "nbconvert_exporter": "python",
   "pygments_lexer": "ipython3",
   "version": "3.10.4"
  },
  "vscode": {
   "interpreter": {
    "hash": "1bf89b5e425e511e6208a82dd7a3225392f448ad069ddd9557f507f6073233bf"
   }
  }
 },
 "nbformat": 4,
 "nbformat_minor": 4
}
